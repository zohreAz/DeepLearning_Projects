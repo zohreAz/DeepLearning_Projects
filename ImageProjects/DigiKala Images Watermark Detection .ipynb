{
  "nbformat": 4,
  "nbformat_minor": 0,
  "metadata": {
    "colab": {
      "provenance": []
    },
    "kernelspec": {
      "name": "python3",
      "display_name": "Python 3"
    },
    "language_info": {
      "name": "python"
    },
    "accelerator": "GPU"
  },
  "cells": [
    {
      "cell_type": "code",
      "source": [
        "#data:\n",
        "#https://static.quera.org/dl/dk-dataset.zip"
      ],
      "metadata": {
        "id": "g2e9gBKjarOY"
      },
      "execution_count": null,
      "outputs": []
    },
    {
      "cell_type": "code",
      "execution_count": null,
      "metadata": {
        "colab": {
          "base_uri": "https://localhost:8080/"
        },
        "id": "Gkc12G7oS-hA",
        "outputId": "11e56374-28d7-4c30-875c-d44f735bd238"
      },
      "outputs": [
        {
          "output_type": "stream",
          "name": "stdout",
          "text": [
            "/content/drive\n"
          ]
        }
      ],
      "source": [
        "cd drive/"
      ]
    },
    {
      "cell_type": "code",
      "source": [
        "!unzip '/content/drive/MyDrive/Water Mark/واترمارک.zip' -d '/content/drive/MyDrive/Water Mark/'"
      ],
      "metadata": {
        "id": "1soVUYBoDy03"
      },
      "execution_count": null,
      "outputs": []
    },
    {
      "cell_type": "code",
      "source": [
        "import cv2\n",
        "import numpy as np\n",
        "import matplotlib.pyplot as plt\n",
        "import pandas as pd\n",
        "import random\n",
        "import os, os.path\n",
        "\n",
        "directory =  '/content/drive/MyDrive/Water Mark/dataset/train/'\n",
        "# images = []\n",
        "# labels = []\n",
        "data_len = 8582\n",
        "images = np.zeros((data_len,224, 224,3), dtype='uint8')\n",
        "labels = np.zeros((data_len,1), dtype='uint8')\n",
        "names = {}\n",
        "count = 0\n",
        "indx = 0\n",
        "unique = []\n",
        "\n",
        "shuffled_indices = random.sample(range(0, 8582), 8582)\n",
        "\n",
        "lbl = 1\n",
        "for i in ['positive/','negative/']:\n",
        "    \n",
        "    if( i == 'negative/'):\n",
        "        lbl = 0\n",
        "    \n",
        "    folder = directory+str(i)\n",
        "    for filename in os.listdir(folder):\n",
        "        print(os.path.join(folder,filename),lbl)\n",
        "        img = cv2.imread(os.path.join(folder,filename))\n",
        "#         gray = cv2.cvtColor(img, cv2.COLOR_BGR2GRAY)\n",
        "        if img is not None and count in shuffled_indices:\n",
        "            img = cv2.resize(img, (224, 224),interpolation = cv2.INTER_NEAREST)\n",
        "#             data = np.array(img)\n",
        "#             print(np.shape(data))\n",
        "#             flattened = data.flatten()\n",
        "            \n",
        "            images[indx] = (img/.256)\n",
        "            labels[indx] = lbl\n",
        "            names[indx] = (filename)\n",
        "            indx = indx + 1\n",
        "        count = count + 1 \n",
        "        "
      ],
      "metadata": {
        "id": "QfgzuFm8ECDY"
      },
      "execution_count": null,
      "outputs": []
    },
    {
      "cell_type": "code",
      "source": [
        "import sklearn.datasets\n",
        "\n",
        "dataset = sklearn.utils.Bunch(name = (names) , data=(images), target=(labels))"
      ],
      "metadata": {
        "id": "kvthHtgYEIm0"
      },
      "execution_count": null,
      "outputs": []
    },
    {
      "cell_type": "code",
      "source": [
        "X,y = dataset['data'],dataset['target']\n",
        "\n",
        "\n",
        "print(X.shape)\n",
        "print(y.shape)"
      ],
      "metadata": {
        "colab": {
          "base_uri": "https://localhost:8080/"
        },
        "id": "WKLKV-ihEMsv",
        "outputId": "cddd8c13-763b-4359-ffbc-a18e63dc24cb"
      },
      "execution_count": null,
      "outputs": [
        {
          "output_type": "stream",
          "name": "stdout",
          "text": [
            "(8582, 224, 224, 3)\n",
            "(8582, 1)\n"
          ]
        }
      ]
    },
    {
      "cell_type": "code",
      "source": [
        "def split_train_valid_test_indices(data_len,test_ratio):\n",
        "    shuffled_indices = np.random.permutation(data_len)\n",
        "    test_set_size = int(data_len*test_ratio)\n",
        "    test_indices = shuffled_indices[:test_set_size]\n",
        "    valid_indices = shuffled_indices[test_set_size:test_set_size*2]\n",
        "    train_indices = shuffled_indices[test_set_size*2:]\n",
        "    return list(train_indices), list(valid_indices), list(test_indices)\n",
        "    "
      ],
      "metadata": {
        "id": "rzulh7KtEQq7"
      },
      "execution_count": null,
      "outputs": []
    },
    {
      "cell_type": "code",
      "source": [
        "train_indices , valid_indices , test_indices = split_train_valid_test_indices(X.shape[0],0.2)\n",
        "train_x = X[train_indices] \n",
        "valid_x = X[valid_indices] \n",
        "test_x = X[test_indices]\n",
        "train_y = y[train_indices] \n",
        "valid_y = y[valid_indices] \n",
        "test_y = y[test_indices]\n",
        "\n",
        "print(valid_y.shape)\n",
        "print(valid_y[0])"
      ],
      "metadata": {
        "colab": {
          "base_uri": "https://localhost:8080/"
        },
        "id": "8Ybw1FfvEhSR",
        "outputId": "5d69cd9e-4049-4497-df5b-5d0b359d564d"
      },
      "execution_count": null,
      "outputs": [
        {
          "output_type": "stream",
          "name": "stdout",
          "text": [
            "(1716, 1)\n",
            "[1]\n"
          ]
        }
      ]
    },
    {
      "cell_type": "code",
      "source": [
        "# imports for the model\n",
        "from tensorflow.keras import Sequential, Model\n",
        "from tensorflow.keras.layers import Dense, Conv2DTranspose, BatchNormalization\n",
        "from tensorflow.keras.optimizers import Adam\n",
        "from tensorflow.keras.applications import ResNet50\n",
        "\n",
        "# imports for the dataset\n",
        "from tensorflow.keras.datasets import cifar10\n",
        "from tensorflow.keras.utils import to_categorical\n",
        "import numpy as np\n",
        "\n",
        "# Get a pre-built ResNet50 w/o the top layer (classifer) and input shape configured for 128 x 128\n",
        "base = ResNet50(include_top=False, input_shape=(224, 224, 3), pooling='max')\n",
        "\n",
        "# Add a new classifier (top) layer for the 10 classes in CIFAR-10\n",
        "outputs = Dense(1, activation='sigmoid')(base.output)\n",
        "\n",
        "# Rebuild the model with the new classifier\n",
        "resnet = Model(base.input, outputs)\n",
        "# resnet.summary()\n",
        "\n",
        "# Create the pre-stem as a Sequential model\n",
        "model = Sequential()\n",
        "\n",
        "# Add the ResNet50 model as the remaining layers and rebuild\n",
        "model.add(resnet)\n",
        "model.compile(loss='binary_crossentropy', optimizer=Adam(lr=0.0001), metrics=['acc'])\n",
        "\n",
        "history=model.fit(train_x, train_y, epochs=5, batch_size=32, verbose=1, \n",
        "                    validation_data=(valid_x, valid_y))"
      ],
      "metadata": {
        "colab": {
          "base_uri": "https://localhost:8080/"
        },
        "id": "Ixl_wiQdEpD7",
        "outputId": "f0a3a606-a9cc-44db-db1b-94d31390d417"
      },
      "execution_count": null,
      "outputs": [
        {
          "output_type": "stream",
          "name": "stderr",
          "text": [
            "/usr/local/lib/python3.7/dist-packages/keras/optimizer_v2/adam.py:105: UserWarning: The `lr` argument is deprecated, use `learning_rate` instead.\n",
            "  super(Adam, self).__init__(name, **kwargs)\n"
          ]
        },
        {
          "output_type": "stream",
          "name": "stdout",
          "text": [
            "Epoch 1/5\n",
            "161/161 [==============================] - 63s 355ms/step - loss: 0.9368 - acc: 0.7981 - val_loss: 1.0142 - val_acc: 0.7220\n",
            "Epoch 2/5\n",
            "161/161 [==============================] - 56s 346ms/step - loss: 0.2215 - acc: 0.9406 - val_loss: 0.7477 - val_acc: 0.8450\n",
            "Epoch 3/5\n",
            "161/161 [==============================] - 56s 347ms/step - loss: 0.0897 - acc: 0.9750 - val_loss: 0.9290 - val_acc: 0.8700\n",
            "Epoch 4/5\n",
            "161/161 [==============================] - 56s 346ms/step - loss: 0.0643 - acc: 0.9845 - val_loss: 0.7985 - val_acc: 0.8660\n",
            "Epoch 5/5\n",
            "161/161 [==============================] - 56s 347ms/step - loss: 0.0498 - acc: 0.9905 - val_loss: 0.8650 - val_acc: 0.8759\n"
          ]
        }
      ]
    },
    {
      "cell_type": "code",
      "source": [
        "from matplotlib import pyplot as plt\n",
        "plt.plot(history.history['acc'])\n",
        "plt.plot(history.history['val_acc'])\n",
        "plt.title('model accuracy')\n",
        "plt.ylabel('accuracy')\n",
        "plt.xlabel('epoch')\n",
        "plt.legend(['train', 'val'], loc='upper left')\n",
        "plt.show()"
      ],
      "metadata": {
        "colab": {
          "base_uri": "https://localhost:8080/",
          "height": 295
        },
        "id": "QoP6iT5fFICk",
        "outputId": "4efbba29-0562-49cd-fb07-4280f801000c"
      },
      "execution_count": null,
      "outputs": [
        {
          "output_type": "display_data",
          "data": {
            "text/plain": [
              "<Figure size 432x288 with 1 Axes>"
            ],
            "image/png": "[encoded data removed]"
          },
          "metadata": {
            "needs_background": "light"
          }
        }
      ]
    },
    {
      "cell_type": "code",
      "source": [
        "scores = model.evaluate(test_x, test_y, verbose=1)"
      ],
      "metadata": {
        "colab": {
          "base_uri": "https://localhost:8080/"
        },
        "id": "4H_SBCWQFQ9b",
        "outputId": "196807d4-a5ef-4b3f-d5bc-0861c2e21f0e"
      },
      "execution_count": null,
      "outputs": [
        {
          "output_type": "stream",
          "name": "stdout",
          "text": [
            "54/54 [==============================] - 5s 94ms/step - loss: 0.6745 - acc: 0.8846\n"
          ]
        }
      ]
    }
  ]
}