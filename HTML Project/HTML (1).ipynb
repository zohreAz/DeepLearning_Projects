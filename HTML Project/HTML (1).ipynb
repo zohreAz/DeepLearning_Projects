{
  "nbformat": 4,
  "nbformat_minor": 0,
  "metadata": {
    "colab": {
      "provenance": []
    },
    "kernelspec": {
      "name": "python3",
      "display_name": "Python 3"
    },
    "language_info": {
      "name": "python"
    }
  },
  "cells": [
    {
      "cell_type": "code",
      "execution_count": 13,
      "metadata": {
        "colab": {
          "base_uri": "https://localhost:8080/"
        },
        "id": "GZwqx7_M9UjK",
        "outputId": "c42cb54b-7328-45d7-d3c0-fe219dee5601"
      },
      "outputs": [
        {
          "output_type": "stream",
          "name": "stdout",
          "text": [
            "Drive already mounted at /content/drive; to attempt to forcibly remount, call drive.mount(\"/content/drive\", force_remount=True).\n"
          ]
        }
      ],
      "source": [
        "from google.colab import drive\n",
        "drive.mount('/content/drive')"
      ]
    },
    {
      "cell_type": "code",
      "source": [
        "import pandas as pd\n",
        "import glob\n",
        "import os\n",
        "\n",
        "path = \"/content/drive/MyDrive/MCI/KarAmouzi\"\n",
        "csv_files = glob.glob(os.path.join(path, \"*.csv\"))"
      ],
      "metadata": {
        "id": "_GgdQ1yy9aeZ"
      },
      "execution_count": 1,
      "outputs": []
    },
    {
      "cell_type": "code",
      "source": [
        "from html.parser import HTMLParser\n",
        "\n",
        "class MyHTMLParser(HTMLParser):\n",
        "\n",
        "    def __init__(self):\n",
        "      HTMLParser.__init__(self)\n",
        "      self._lines = []\n",
        "\n",
        "    def handle_starttag(self, tag, attrs):\n",
        "        self._lines.append((tag,0))\n",
        "\n",
        "\n",
        "    def handle_endtag(self, tag):\n",
        "        self._lines.append((tag,1))\n",
        "\n",
        "\n",
        "    def handle_data(self, data):\n",
        "        if(data.replace('\\n','').strip() != ''):\n",
        "          self._lines.append(data)\n",
        "\n",
        "\n",
        "    def return_all_tags_with_data(self):\n",
        "       return self._lines"
      ],
      "metadata": {
        "id": "1As5po4l-xA5"
      },
      "execution_count": 2,
      "outputs": []
    },
    {
      "cell_type": "code",
      "source": [
        "from bs4 import BeautifulSoup\n",
        "import base64 as b64\n",
        "import re\n",
        "\n",
        "descriptions = []\n",
        "train_htmls = []\n",
        "test_htmls = []\n",
        "\n",
        "for i in range(3):\n",
        "  df = pd.read_csv(csv_files[i], on_bad_lines='skip')\n",
        "  end = 500 if len(df) > 500  else len(df)\n",
        "  for j in range(end): \n",
        "    bsDecode = b64.b64decode(df['html'][j]).decode('utf-8', errors=\"ignore\")\n",
        "    soup = BeautifulSoup(bsDecode, \"html.parser\")\n",
        "    desc = soup.findAll(attrs={\"name\": re.compile(r\"description\", re.I)}) \n",
        "    if(desc ):\n",
        "      if(desc[0]['content'] not in descriptions ):\n",
        "        descriptions.append(desc[0]['content'])\n",
        "        if( i != 0 ):\n",
        "          train_htmls.append((bsDecode,desc[0]['content']))\n",
        "        else:\n",
        "          test_htmls.append((bsDecode,desc[0]['content']))"
      ],
      "metadata": {
        "id": "zaB3mcfAmVxJ"
      },
      "execution_count": 7,
      "outputs": []
    },
    {
      "cell_type": "code",
      "source": [
        "def html_feature(z,k=0,start=-1):\n",
        "  \n",
        "  for i in range(len(z)):\n",
        "    \n",
        "    if(isinstance(z[i], tuple) and z[i][0] == 'li' and z[i][1] == 0 ):\n",
        "      start = 0\n",
        "\n",
        "    if(isinstance(z[i], tuple) and z[i][0] == 'li' and z[i][1] == 1 ):\n",
        "      start = -1\n",
        "\n",
        "    if(start == 0 ):\n",
        "      continue\n",
        "\n",
        "    if(not isinstance(z[i], tuple) and z[i-1][0] != 'script' and len(z[i].lstrip().rstrip().split(' '))>10 ):\n",
        "        len_previous_text =0\n",
        "        counter = 0\n",
        "        for j in range(i-1,-1,-1):\n",
        "          if(counter == 5):\n",
        "            break\n",
        "          if(not isinstance(z[j], tuple)):\n",
        "            len_previous_text += len(z[j].lstrip().rstrip().split(' '))\n",
        "            counter+=1\n",
        "\n",
        "        len_next_text = 0\n",
        "        counter = 0\n",
        "        for j in range(i+1,len(z)):\n",
        "          if(counter == 5):\n",
        "            break\n",
        "          if(not isinstance(z[j], tuple)):\n",
        "            len_next_text += len(z[j].lstrip().rstrip().split(' '))\n",
        "            counter+=1\n",
        "        \n",
        "        target = 0\n",
        "        if(z[i] == html[1]):\n",
        "          target = 1\n",
        "\n",
        "        html_features.append([len(z[i].lstrip().rstrip().split(' ')),len_previous_text,len_next_text,k,target])\n",
        "        k+=1\n",
        "  return html_features"
      ],
      "metadata": {
        "id": "-5tU8i6O_Jym"
      },
      "execution_count": 8,
      "outputs": []
    },
    {
      "cell_type": "code",
      "source": [
        "parser = MyHTMLParser()\n",
        "train = []\n",
        "test = []\n",
        "\n",
        "for html in train_htmls:\n",
        "  html_features = []\n",
        "  parser.feed(html[0])\n",
        "  z = parser.return_all_tags_with_data()\n",
        "  k = 0\n",
        "  start = -1\n",
        "  html_features = html_feature(z,k=0,start=-1)\n",
        "  df2 = pd.DataFrame(html_features, columns=['word_count', 'word_count_previous', 'word_count_next','position','target'])\n",
        "  if(df2['target'].nunique() == 2):\n",
        "      train.extend(html_features)\n",
        "\n",
        "\n",
        "for html in test_htmls:\n",
        "  html_features = []\n",
        "  parser.feed(html[0])\n",
        "  z = parser.return_all_tags_with_data()\n",
        "  k = 0\n",
        "  start = -1\n",
        "  html_features = html_feature(z,k=0,start=-1)\n",
        "  df2 = pd.DataFrame(html_features, columns=['word_count', 'word_count_previous', 'word_count_next','position','target'])\n",
        "  if(df2['target'].nunique() == 2):\n",
        "      test.extend(html_features)\n",
        "\n"
      ],
      "metadata": {
        "id": "9hkYtEKHS19-"
      },
      "execution_count": 9,
      "outputs": []
    },
    {
      "cell_type": "code",
      "source": [
        "import pandas as pd\n",
        "df_train = pd.DataFrame(train, columns=['word_count', 'word_count_previous', 'word_count_next','position','target'])\n",
        "df_train['target'].value_counts()"
      ],
      "metadata": {
        "colab": {
          "base_uri": "https://localhost:8080/"
        },
        "id": "X6Rhwl1ahQnf",
        "outputId": "7d5ef5d3-eb19-4254-b33a-6b2df88a21cf"
      },
      "execution_count": 10,
      "outputs": [
        {
          "output_type": "execute_result",
          "data": {
            "text/plain": [
              "0    3749399\n",
              "1        485\n",
              "Name: target, dtype: int64"
            ]
          },
          "metadata": {},
          "execution_count": 10
        }
      ]
    },
    {
      "cell_type": "code",
      "source": [
        "df_train.head()"
      ],
      "metadata": {
        "id": "GLDPsP8dukgb",
        "outputId": "51027f25-492c-4ff3-c526-374bed313b3c",
        "colab": {
          "base_uri": "https://localhost:8080/",
          "height": 206
        }
      },
      "execution_count": 11,
      "outputs": [
        {
          "output_type": "execute_result",
          "data": {
            "text/plain": [
              "   word_count  word_count_previous  word_count_next  position  target\n",
              "0          12                    1               48         0       0\n",
              "1          12                   11              107         1       0\n",
              "2          28                   21               86         2       0\n",
              "3          72                   50               68         3       0\n",
              "4          54                   84               16         4       0"
            ],
            "text/html": [
              "\n",
              "  <div id=\"df-8fa01b83-15cb-4fda-9e0b-d103a281dd88\">\n",
              "    <div class=\"colab-df-container\">\n",
              "      <div>\n",
              "<style scoped>\n",
              "    .dataframe tbody tr th:only-of-type {\n",
              "        vertical-align: middle;\n",
              "    }\n",
              "\n",
              "    .dataframe tbody tr th {\n",
              "        vertical-align: top;\n",
              "    }\n",
              "\n",
              "    .dataframe thead th {\n",
              "        text-align: right;\n",
              "    }\n",
              "</style>\n",
              "<table border=\"1\" class=\"dataframe\">\n",
              "  <thead>\n",
              "    <tr style=\"text-align: right;\">\n",
              "      <th></th>\n",
              "      <th>word_count</th>\n",
              "      <th>word_count_previous</th>\n",
              "      <th>word_count_next</th>\n",
              "      <th>position</th>\n",
              "      <th>target</th>\n",
              "    </tr>\n",
              "  </thead>\n",
              "  <tbody>\n",
              "    <tr>\n",
              "      <th>0</th>\n",
              "      <td>12</td>\n",
              "      <td>1</td>\n",
              "      <td>48</td>\n",
              "      <td>0</td>\n",
              "      <td>0</td>\n",
              "    </tr>\n",
              "    <tr>\n",
              "      <th>1</th>\n",
              "      <td>12</td>\n",
              "      <td>11</td>\n",
              "      <td>107</td>\n",
              "      <td>1</td>\n",
              "      <td>0</td>\n",
              "    </tr>\n",
              "    <tr>\n",
              "      <th>2</th>\n",
              "      <td>28</td>\n",
              "      <td>21</td>\n",
              "      <td>86</td>\n",
              "      <td>2</td>\n",
              "      <td>0</td>\n",
              "    </tr>\n",
              "    <tr>\n",
              "      <th>3</th>\n",
              "      <td>72</td>\n",
              "      <td>50</td>\n",
              "      <td>68</td>\n",
              "      <td>3</td>\n",
              "      <td>0</td>\n",
              "    </tr>\n",
              "    <tr>\n",
              "      <th>4</th>\n",
              "      <td>54</td>\n",
              "      <td>84</td>\n",
              "      <td>16</td>\n",
              "      <td>4</td>\n",
              "      <td>0</td>\n",
              "    </tr>\n",
              "  </tbody>\n",
              "</table>\n",
              "</div>\n",
              "      <button class=\"colab-df-convert\" onclick=\"convertToInteractive('df-8fa01b83-15cb-4fda-9e0b-d103a281dd88')\"\n",
              "              title=\"Convert this dataframe to an interactive table.\"\n",
              "              style=\"display:none;\">\n",
              "        \n",
              "  <svg xmlns=\"http://www.w3.org/2000/svg\" height=\"24px\"viewBox=\"0 0 24 24\"\n",
              "       width=\"24px\">\n",
              "    <path d=\"M0 0h24v24H0V0z\" fill=\"none\"/>\n",
              "    <path d=\"M18.56 5.44l.94 2.06.94-2.06 2.06-.94-2.06-.94-.94-2.06-.94 2.06-2.06.94zm-11 1L8.5 8.5l.94-2.06 2.06-.94-2.06-.94L8.5 2.5l-.94 2.06-2.06.94zm10 10l.94 2.06.94-2.06 2.06-.94-2.06-.94-.94-2.06-.94 2.06-2.06.94z\"/><path d=\"M17.41 7.96l-1.37-1.37c-.4-.4-.92-.59-1.43-.59-.52 0-1.04.2-1.43.59L10.3 9.45l-7.72 7.72c-.78.78-.78 2.05 0 2.83L4 21.41c.39.39.9.59 1.41.59.51 0 1.02-.2 1.41-.59l7.78-7.78 2.81-2.81c.8-.78.8-2.07 0-2.86zM5.41 20L4 18.59l7.72-7.72 1.47 1.35L5.41 20z\"/>\n",
              "  </svg>\n",
              "      </button>\n",
              "      \n",
              "  <style>\n",
              "    .colab-df-container {\n",
              "      display:flex;\n",
              "      flex-wrap:wrap;\n",
              "      gap: 12px;\n",
              "    }\n",
              "\n",
              "    .colab-df-convert {\n",
              "      background-color: #E8F0FE;\n",
              "      border: none;\n",
              "      border-radius: 50%;\n",
              "      cursor: pointer;\n",
              "      display: none;\n",
              "      fill: #1967D2;\n",
              "      height: 32px;\n",
              "      padding: 0 0 0 0;\n",
              "      width: 32px;\n",
              "    }\n",
              "\n",
              "    .colab-df-convert:hover {\n",
              "      background-color: #E2EBFA;\n",
              "      box-shadow: 0px 1px 2px rgba(60, 64, 67, 0.3), 0px 1px 3px 1px rgba(60, 64, 67, 0.15);\n",
              "      fill: #174EA6;\n",
              "    }\n",
              "\n",
              "    [theme=dark] .colab-df-convert {\n",
              "      background-color: #3B4455;\n",
              "      fill: #D2E3FC;\n",
              "    }\n",
              "\n",
              "    [theme=dark] .colab-df-convert:hover {\n",
              "      background-color: #434B5C;\n",
              "      box-shadow: 0px 1px 3px 1px rgba(0, 0, 0, 0.15);\n",
              "      filter: drop-shadow(0px 1px 2px rgba(0, 0, 0, 0.3));\n",
              "      fill: #FFFFFF;\n",
              "    }\n",
              "  </style>\n",
              "\n",
              "      <script>\n",
              "        const buttonEl =\n",
              "          document.querySelector('#df-8fa01b83-15cb-4fda-9e0b-d103a281dd88 button.colab-df-convert');\n",
              "        buttonEl.style.display =\n",
              "          google.colab.kernel.accessAllowed ? 'block' : 'none';\n",
              "\n",
              "        async function convertToInteractive(key) {\n",
              "          const element = document.querySelector('#df-8fa01b83-15cb-4fda-9e0b-d103a281dd88');\n",
              "          const dataTable =\n",
              "            await google.colab.kernel.invokeFunction('convertToInteractive',\n",
              "                                                     [key], {});\n",
              "          if (!dataTable) return;\n",
              "\n",
              "          const docLinkHtml = 'Like what you see? Visit the ' +\n",
              "            '<a target=\"_blank\" href=https://colab.research.google.com/notebooks/data_table.ipynb>data table notebook</a>'\n",
              "            + ' to learn more about interactive tables.';\n",
              "          element.innerHTML = '';\n",
              "          dataTable['output_type'] = 'display_data';\n",
              "          await google.colab.output.renderOutput(dataTable, element);\n",
              "          const docLink = document.createElement('div');\n",
              "          docLink.innerHTML = docLinkHtml;\n",
              "          element.appendChild(docLink);\n",
              "        }\n",
              "      </script>\n",
              "    </div>\n",
              "  </div>\n",
              "  "
            ]
          },
          "metadata": {},
          "execution_count": 11
        }
      ]
    },
    {
      "cell_type": "code",
      "source": [
        "import numpy as np\n",
        "from sklearn.pipeline import make_pipeline\n",
        "from sklearn.preprocessing import StandardScaler\n",
        "from sklearn.svm import OneClassSVM\n",
        "\n",
        "X = df_train[['word_count', 'word_count_previous', 'word_count_next','position']].values\n",
        "y =  df_train['target'].values\n",
        "from sklearn.svm import SVC\n",
        "clf = make_pipeline(StandardScaler(), OneClassSVM(gamma='auto', nu=0.01))\n",
        "clf.fit(X, y)\n"
      ],
      "metadata": {
        "id": "PShmhX97zi90"
      },
      "execution_count": null,
      "outputs": []
    },
    {
      "cell_type": "code",
      "source": [
        "df_test = pd.DataFrame(test, columns=['word_count', 'word_count_previous', 'word_count_next','position','target'])\n",
        "df_test['target'].value_counts()"
      ],
      "metadata": {
        "id": "EPxrI37uBeIO"
      },
      "execution_count": null,
      "outputs": []
    },
    {
      "cell_type": "code",
      "source": [
        "X = df_test[['word_count', 'word_count_previous', 'word_count_next','position']].values\n",
        "y =  df_test['target'].values\n",
        "\n",
        "print(clf.predict(X[0]))"
      ],
      "metadata": {
        "id": "FHRh6VA90apg",
        "outputId": "3a0e1919-dd6e-4200-9ae1-9654b7fff2db",
        "colab": {
          "base_uri": "https://localhost:8080/"
        }
      },
      "execution_count": 102,
      "outputs": [
        {
          "output_type": "stream",
          "name": "stdout",
          "text": [
            "[0]\n"
          ]
        }
      ]
    }
  ]
}