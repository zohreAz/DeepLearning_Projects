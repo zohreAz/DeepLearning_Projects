{
  "cells": [
    {
      "cell_type": "code",
      "source": [
        "!pip install torch==1.8.0+cu111 torchvision==0.9.0+cu111 torchaudio==0.8.0 -f https://download.pytorch.org/whl/torch_stable.html\n"
      ],
      "metadata": {
        "colab": {
          "base_uri": "https://localhost:8080/"
        },
        "id": "wJl5wJ9GBL_N",
        "outputId": "780db59f-7d10-4e9c-dbae-6f059cc5ffda"
      },
      "id": "wJl5wJ9GBL_N",
      "execution_count": 5,
      "outputs": [
        {
          "output_type": "stream",
          "name": "stdout",
          "text": [
            "Looking in indexes: https://pypi.org/simple, https://us-python.pkg.dev/colab-wheels/public/simple/\n",
            "Looking in links: https://download.pytorch.org/whl/torch_stable.html\n",
            "Collecting torch==1.8.0+cu111\n",
            "  Downloading https://download.pytorch.org/whl/cu111/torch-1.8.0%2Bcu111-cp38-cp38-linux_x86_64.whl (1982.2 MB)\n",
            "\u001b[2K     \u001b[91m━━━━━━━━━━━━━━━━━━━━━━━━━━━━━━━━━━━━━━━\u001b[0m\u001b[91m╸\u001b[0m \u001b[32m2.0/2.0 GB\u001b[0m \u001b[31m36.7 MB/s\u001b[0m eta \u001b[36m0:00:01\u001b[0mtcmalloc: large alloc 1982242816 bytes == 0x299c000 @  0x7fb3cdfc6680 0x7fb3cdfe7824 0x5b3128 0x5bbc90 0x5f714c 0x64d800 0x527022 0x504866 0x56bbe1 0x569d8a 0x5f60c3 0x56bbe1 0x569d8a 0x5f60c3 0x56bbe1 0x569d8a 0x5f60c3 0x56bbe1 0x569d8a 0x5f60c3 0x56bbe1 0x569d8a 0x5f60c3 0x56bbe1 0x5f5ee6 0x56bbe1 0x569d8a 0x5f60c3 0x56cc92 0x569d8a 0x5f60c3\n",
            "\u001b[2K     \u001b[91m━━━━━━━━━━━━━━━━━━━━━━━━━━━━━━━━━━━━━━━\u001b[0m\u001b[91m╸\u001b[0m \u001b[32m2.0/2.0 GB\u001b[0m \u001b[31m23.9 MB/s\u001b[0m eta \u001b[36m0:00:01\u001b[0mtcmalloc: large alloc 2477809664 bytes == 0x78c06000 @  0x7fb3cdfc6680 0x7fb3cdfe6da2 0x5f714c 0x64d800 0x527022 0x504866 0x56bbe1 0x569d8a 0x5f60c3 0x56bbe1 0x569d8a 0x5f60c3 0x56bbe1 0x569d8a 0x5f60c3 0x56bbe1 0x569d8a 0x5f60c3 0x56bbe1 0x569d8a 0x5f60c3 0x56bbe1 0x5f5ee6 0x56bbe1 0x569d8a 0x5f60c3 0x56cc92 0x569d8a 0x5f60c3 0x56bbe1 0x569d8a\n",
            "tcmalloc: large alloc 1982242816 bytes == 0x299c000 @  0x7fb3cdfc6680 0x7fb3cdfe7824 0x5f97c1 0x5f8ecc 0x504866 0x56bbe1 0x569d8a 0x5f60c3 0x56bbe1 0x569d8a 0x5f60c3 0x50b32c 0x5f6b7b 0x66731d 0x5f6706 0x571143 0x50b22e 0x570b82 0x569d8a 0x50b3a0 0x570b82 0x569d8a 0x50b3a0 0x56cc92 0x501044 0x56be83 0x501044 0x56be83 0x501044 0x56be83 0x5f5ee6\n",
            "\u001b[2K     \u001b[90m━━━━━━━━━━━━━━━━━━━━━━━━━━━━━━━━━━━━━━━━\u001b[0m \u001b[32m2.0/2.0 GB\u001b[0m \u001b[31m852.9 kB/s\u001b[0m eta \u001b[36m0:00:00\u001b[0m\n",
            "\u001b[?25hCollecting torchvision==0.9.0+cu111\n",
            "  Downloading https://download.pytorch.org/whl/cu111/torchvision-0.9.0%2Bcu111-cp38-cp38-linux_x86_64.whl (17.6 MB)\n",
            "\u001b[2K     \u001b[90m━━━━━━━━━━━━━━━━━━━━━━━━━━━━━━━━━━━━━━━━\u001b[0m \u001b[32m17.6/17.6 MB\u001b[0m \u001b[31m93.8 MB/s\u001b[0m eta \u001b[36m0:00:00\u001b[0m\n",
            "\u001b[?25hCollecting torchaudio==0.8.0\n",
            "  Downloading torchaudio-0.8.0-cp38-cp38-manylinux1_x86_64.whl (1.9 MB)\n",
            "\u001b[2K     \u001b[90m━━━━━━━━━━━━━━━━━━━━━━━━━━━━━━━━━━━━━━━━\u001b[0m \u001b[32m1.9/1.9 MB\u001b[0m \u001b[31m68.8 MB/s\u001b[0m eta \u001b[36m0:00:00\u001b[0m\n",
            "\u001b[?25hRequirement already satisfied: typing-extensions in /usr/local/lib/python3.8/dist-packages (from torch==1.8.0+cu111) (4.4.0)\n",
            "Requirement already satisfied: numpy in /usr/local/lib/python3.8/dist-packages (from torch==1.8.0+cu111) (1.21.6)\n",
            "Requirement already satisfied: pillow>=4.1.1 in /usr/local/lib/python3.8/dist-packages (from torchvision==0.9.0+cu111) (7.1.2)\n",
            "Installing collected packages: torch, torchvision, torchaudio\n",
            "  Attempting uninstall: torch\n",
            "    Found existing installation: torch 1.8.0\n",
            "    Uninstalling torch-1.8.0:\n",
            "      Successfully uninstalled torch-1.8.0\n",
            "  Attempting uninstall: torchvision\n",
            "    Found existing installation: torchvision 0.14.1+cu116\n",
            "    Uninstalling torchvision-0.14.1+cu116:\n",
            "      Successfully uninstalled torchvision-0.14.1+cu116\n",
            "  Attempting uninstall: torchaudio\n",
            "    Found existing installation: torchaudio 0.13.1+cu116\n",
            "    Uninstalling torchaudio-0.13.1+cu116:\n",
            "      Successfully uninstalled torchaudio-0.13.1+cu116\n",
            "Successfully installed torch-1.8.0+cu111 torchaudio-0.8.0 torchvision-0.9.0+cu111\n"
          ]
        }
      ]
    },
    {
      "cell_type": "code",
      "source": [
        "!pip install torchtext==0.9.0"
      ],
      "metadata": {
        "colab": {
          "base_uri": "https://localhost:8080/"
        },
        "id": "ls2NBC8C0vTj",
        "outputId": "1d349d8d-5c5a-4cad-8362-aafd6f2b9967"
      },
      "id": "ls2NBC8C0vTj",
      "execution_count": 4,
      "outputs": [
        {
          "output_type": "stream",
          "name": "stdout",
          "text": [
            "Looking in indexes: https://pypi.org/simple, https://us-python.pkg.dev/colab-wheels/public/simple/\n",
            "Collecting torchtext==0.9.0\n",
            "  Downloading torchtext-0.9.0-cp38-cp38-manylinux1_x86_64.whl (7.0 MB)\n",
            "\u001b[2K     \u001b[90m━━━━━━━━━━━━━━━━━━━━━━━━━━━━━━━━━━━━━━━━\u001b[0m \u001b[32m7.0/7.0 MB\u001b[0m \u001b[31m86.0 MB/s\u001b[0m eta \u001b[36m0:00:00\u001b[0m\n",
            "\u001b[?25hRequirement already satisfied: torch==1.8.0 in /usr/local/lib/python3.8/dist-packages (from torchtext==0.9.0) (1.8.0)\n",
            "Requirement already satisfied: tqdm in /usr/local/lib/python3.8/dist-packages (from torchtext==0.9.0) (4.64.1)\n",
            "Requirement already satisfied: numpy in /usr/local/lib/python3.8/dist-packages (from torchtext==0.9.0) (1.21.6)\n",
            "Requirement already satisfied: requests in /usr/local/lib/python3.8/dist-packages (from torchtext==0.9.0) (2.25.1)\n",
            "Requirement already satisfied: typing-extensions in /usr/local/lib/python3.8/dist-packages (from torch==1.8.0->torchtext==0.9.0) (4.4.0)\n",
            "Requirement already satisfied: certifi>=2017.4.17 in /usr/local/lib/python3.8/dist-packages (from requests->torchtext==0.9.0) (2022.12.7)\n",
            "Requirement already satisfied: chardet<5,>=3.0.2 in /usr/local/lib/python3.8/dist-packages (from requests->torchtext==0.9.0) (4.0.0)\n",
            "Requirement already satisfied: urllib3<1.27,>=1.21.1 in /usr/local/lib/python3.8/dist-packages (from requests->torchtext==0.9.0) (1.24.3)\n",
            "Requirement already satisfied: idna<3,>=2.5 in /usr/local/lib/python3.8/dist-packages (from requests->torchtext==0.9.0) (2.10)\n",
            "Installing collected packages: torchtext\n",
            "  Attempting uninstall: torchtext\n",
            "    Found existing installation: torchtext 0.14.1\n",
            "    Uninstalling torchtext-0.14.1:\n",
            "      Successfully uninstalled torchtext-0.14.1\n",
            "Successfully installed torchtext-0.9.0\n"
          ]
        }
      ]
    },
    {
      "cell_type": "code",
      "execution_count": 6,
      "id": "dcfc4782",
      "metadata": {
        "id": "dcfc4782"
      },
      "outputs": [],
      "source": [
        "import os\n",
        "import torch\n",
        "import torch.nn as nn\n",
        "import torch.optim as optim\n",
        "\n",
        "from torchtext.legacy import data\n",
        "from torchtext.legacy import datasets\n",
        "\n",
        "import spacy\n",
        "import numpy as np\n",
        "\n",
        "import time\n",
        "import random\n"
      ]
    },
    {
      "cell_type": "code",
      "source": [
        "from google.colab import drive\n",
        "drive.mount('/content/drive')"
      ],
      "metadata": {
        "colab": {
          "base_uri": "https://localhost:8080/"
        },
        "id": "oB5u1aF-tq0D",
        "outputId": "f98a7e3c-fd41-4f9e-bd83-9dc38065b840"
      },
      "id": "oB5u1aF-tq0D",
      "execution_count": 1,
      "outputs": [
        {
          "output_type": "stream",
          "name": "stdout",
          "text": [
            "Mounted at /content/drive\n"
          ]
        }
      ]
    },
    {
      "cell_type": "code",
      "execution_count": 7,
      "id": "43230b9e",
      "metadata": {
        "id": "43230b9e"
      },
      "outputs": [],
      "source": [
        "SEED = 1234\n",
        "\n",
        "random.seed(SEED)\n",
        "np.random.seed(SEED)\n",
        "torch.manual_seed(SEED)\n",
        "torch.backends.cudnn.deterministic = True"
      ]
    },
    {
      "cell_type": "code",
      "execution_count": 8,
      "id": "cad926be",
      "metadata": {
        "id": "cad926be"
      },
      "outputs": [],
      "source": [
        "sentences = []\n",
        "tags = []\n",
        "sentenceText = []\n",
        "sentenceTag = []\n",
        "\n",
        "with open ('/content/drive/MyDrive/MCI/UPC-2016.txt','rt') as lines:\n",
        "    for line in lines:\n",
        "            splitLine = [i for i in (line.split('\\t'))]\n",
        "            if(len(splitLine)==1):\n",
        "                    sentences.append(sentenceText)\n",
        "                    tags.append(sentenceTag)\n",
        "                    sentenceText = []\n",
        "                    sentenceTag = []\n",
        "            else:\n",
        "                    sentenceText.append(splitLine[0])\n",
        "                    sentenceTag.append((splitLine[1].split('\\n')[0]))"
      ]
    },
    {
      "cell_type": "code",
      "execution_count": 9,
      "id": "d91dd8c0",
      "metadata": {
        "id": "d91dd8c0",
        "outputId": "d68028d8-8286-4d34-9d1f-2abaa2fd1d1b",
        "colab": {
          "base_uri": "https://localhost:8080/",
          "height": 206
        }
      },
      "outputs": [
        {
          "output_type": "execute_result",
          "data": {
            "text/plain": [
              "                                                text  \\\n",
              "0  [#, اولین, سیاره, سیاره, خارج, از, منظومه, شمس...   \n",
              "1  [طی, سالهای, اخیر, ،, بیش, از, دو, دوجین, سیار...   \n",
              "2  [لیکن, ستاره‌شناسان, هرگز, این, سیاره‌ها, را, ...   \n",
              "3  [چنین, تصور, می‌شد, که, این, لرزش, به, علت, جا...   \n",
              "4  [در, آخرین, تحقیق, به, عمل, آمده, نیز, ستاره‌ش...   \n",
              "\n",
              "                                                 tag  \n",
              "0  [DELM, ADJ_SUP, N_SING, N_SING, P, P, N_SING, ...  \n",
              "1  [P, N_PL, ADJ, DELM, ADJ, P, NUM, N_SING, N_SI...  \n",
              "2  [CON, N_PL, ADV_NEG, DET, N_PL, CLITIC, ADV, V...  \n",
              "3  [ADV, N_SING, V_PA, CON, DET, N_SING, P, N_SIN...  \n",
              "4  [P, ADJ_SUP, N_SING, P, N_SING, ADJ_INO, CON, ...  "
            ],
            "text/html": [
              "\n",
              "  <div id=\"df-dc2d167a-a874-4a80-8fd8-ce22d3afeaec\">\n",
              "    <div class=\"colab-df-container\">\n",
              "      <div>\n",
              "<style scoped>\n",
              "    .dataframe tbody tr th:only-of-type {\n",
              "        vertical-align: middle;\n",
              "    }\n",
              "\n",
              "    .dataframe tbody tr th {\n",
              "        vertical-align: top;\n",
              "    }\n",
              "\n",
              "    .dataframe thead th {\n",
              "        text-align: right;\n",
              "    }\n",
              "</style>\n",
              "<table border=\"1\" class=\"dataframe\">\n",
              "  <thead>\n",
              "    <tr style=\"text-align: right;\">\n",
              "      <th></th>\n",
              "      <th>text</th>\n",
              "      <th>tag</th>\n",
              "    </tr>\n",
              "  </thead>\n",
              "  <tbody>\n",
              "    <tr>\n",
              "      <th>0</th>\n",
              "      <td>[#, اولین, سیاره, سیاره, خارج, از, منظومه, شمس...</td>\n",
              "      <td>[DELM, ADJ_SUP, N_SING, N_SING, P, P, N_SING, ...</td>\n",
              "    </tr>\n",
              "    <tr>\n",
              "      <th>1</th>\n",
              "      <td>[طی, سالهای, اخیر, ،, بیش, از, دو, دوجین, سیار...</td>\n",
              "      <td>[P, N_PL, ADJ, DELM, ADJ, P, NUM, N_SING, N_SI...</td>\n",
              "    </tr>\n",
              "    <tr>\n",
              "      <th>2</th>\n",
              "      <td>[لیکن, ستاره‌شناسان, هرگز, این, سیاره‌ها, را, ...</td>\n",
              "      <td>[CON, N_PL, ADV_NEG, DET, N_PL, CLITIC, ADV, V...</td>\n",
              "    </tr>\n",
              "    <tr>\n",
              "      <th>3</th>\n",
              "      <td>[چنین, تصور, می‌شد, که, این, لرزش, به, علت, جا...</td>\n",
              "      <td>[ADV, N_SING, V_PA, CON, DET, N_SING, P, N_SIN...</td>\n",
              "    </tr>\n",
              "    <tr>\n",
              "      <th>4</th>\n",
              "      <td>[در, آخرین, تحقیق, به, عمل, آمده, نیز, ستاره‌ش...</td>\n",
              "      <td>[P, ADJ_SUP, N_SING, P, N_SING, ADJ_INO, CON, ...</td>\n",
              "    </tr>\n",
              "  </tbody>\n",
              "</table>\n",
              "</div>\n",
              "      <button class=\"colab-df-convert\" onclick=\"convertToInteractive('df-dc2d167a-a874-4a80-8fd8-ce22d3afeaec')\"\n",
              "              title=\"Convert this dataframe to an interactive table.\"\n",
              "              style=\"display:none;\">\n",
              "        \n",
              "  <svg xmlns=\"http://www.w3.org/2000/svg\" height=\"24px\"viewBox=\"0 0 24 24\"\n",
              "       width=\"24px\">\n",
              "    <path d=\"M0 0h24v24H0V0z\" fill=\"none\"/>\n",
              "    <path d=\"M18.56 5.44l.94 2.06.94-2.06 2.06-.94-2.06-.94-.94-2.06-.94 2.06-2.06.94zm-11 1L8.5 8.5l.94-2.06 2.06-.94-2.06-.94L8.5 2.5l-.94 2.06-2.06.94zm10 10l.94 2.06.94-2.06 2.06-.94-2.06-.94-.94-2.06-.94 2.06-2.06.94z\"/><path d=\"M17.41 7.96l-1.37-1.37c-.4-.4-.92-.59-1.43-.59-.52 0-1.04.2-1.43.59L10.3 9.45l-7.72 7.72c-.78.78-.78 2.05 0 2.83L4 21.41c.39.39.9.59 1.41.59.51 0 1.02-.2 1.41-.59l7.78-7.78 2.81-2.81c.8-.78.8-2.07 0-2.86zM5.41 20L4 18.59l7.72-7.72 1.47 1.35L5.41 20z\"/>\n",
              "  </svg>\n",
              "      </button>\n",
              "      \n",
              "  <style>\n",
              "    .colab-df-container {\n",
              "      display:flex;\n",
              "      flex-wrap:wrap;\n",
              "      gap: 12px;\n",
              "    }\n",
              "\n",
              "    .colab-df-convert {\n",
              "      background-color: #E8F0FE;\n",
              "      border: none;\n",
              "      border-radius: 50%;\n",
              "      cursor: pointer;\n",
              "      display: none;\n",
              "      fill: #1967D2;\n",
              "      height: 32px;\n",
              "      padding: 0 0 0 0;\n",
              "      width: 32px;\n",
              "    }\n",
              "\n",
              "    .colab-df-convert:hover {\n",
              "      background-color: #E2EBFA;\n",
              "      box-shadow: 0px 1px 2px rgba(60, 64, 67, 0.3), 0px 1px 3px 1px rgba(60, 64, 67, 0.15);\n",
              "      fill: #174EA6;\n",
              "    }\n",
              "\n",
              "    [theme=dark] .colab-df-convert {\n",
              "      background-color: #3B4455;\n",
              "      fill: #D2E3FC;\n",
              "    }\n",
              "\n",
              "    [theme=dark] .colab-df-convert:hover {\n",
              "      background-color: #434B5C;\n",
              "      box-shadow: 0px 1px 3px 1px rgba(0, 0, 0, 0.15);\n",
              "      filter: drop-shadow(0px 1px 2px rgba(0, 0, 0, 0.3));\n",
              "      fill: #FFFFFF;\n",
              "    }\n",
              "  </style>\n",
              "\n",
              "      <script>\n",
              "        const buttonEl =\n",
              "          document.querySelector('#df-dc2d167a-a874-4a80-8fd8-ce22d3afeaec button.colab-df-convert');\n",
              "        buttonEl.style.display =\n",
              "          google.colab.kernel.accessAllowed ? 'block' : 'none';\n",
              "\n",
              "        async function convertToInteractive(key) {\n",
              "          const element = document.querySelector('#df-dc2d167a-a874-4a80-8fd8-ce22d3afeaec');\n",
              "          const dataTable =\n",
              "            await google.colab.kernel.invokeFunction('convertToInteractive',\n",
              "                                                     [key], {});\n",
              "          if (!dataTable) return;\n",
              "\n",
              "          const docLinkHtml = 'Like what you see? Visit the ' +\n",
              "            '<a target=\"_blank\" href=https://colab.research.google.com/notebooks/data_table.ipynb>data table notebook</a>'\n",
              "            + ' to learn more about interactive tables.';\n",
              "          element.innerHTML = '';\n",
              "          dataTable['output_type'] = 'display_data';\n",
              "          await google.colab.output.renderOutput(dataTable, element);\n",
              "          const docLink = document.createElement('div');\n",
              "          docLink.innerHTML = docLinkHtml;\n",
              "          element.appendChild(docLink);\n",
              "        }\n",
              "      </script>\n",
              "    </div>\n",
              "  </div>\n",
              "  "
            ]
          },
          "metadata": {},
          "execution_count": 9
        }
      ],
      "source": [
        "import pandas as pd\n",
        "list_of_tuples = list(zip(sentences, tags))\n",
        "df = pd.DataFrame(list_of_tuples,columns=['text', 'tag'])\n",
        "df.head()"
      ]
    },
    {
      "cell_type": "code",
      "execution_count": 10,
      "id": "db30441f",
      "metadata": {
        "id": "db30441f"
      },
      "outputs": [],
      "source": [
        "TEXT = data.Field()\n",
        "TAGS = data.Field(unk_token = None)\n",
        "fields = [(\"text\", TEXT), (\"tag\", TAGS)]"
      ]
    },
    {
      "cell_type": "code",
      "source": [
        "import random\n",
        "\n",
        "dfIndexs = list(range(len(df)))\n",
        "random.shuffle(dfIndexs)\n",
        "\n",
        "testRate = int(len(df) * 0.1)\n",
        "\n",
        "valid_examples = [data.Example.fromlist(i, fields) for i in df.iloc[dfIndexs[:testRate]].values.tolist()]\n",
        "valid_data = data.Dataset(valid_examples, fields)\n",
        "\n",
        "test_examples = [data.Example.fromlist(i, fields) for i in df.iloc[dfIndexs[testRate:2*testRate]].values.tolist()]\n",
        "test_data = data.Dataset(test_examples, fields)\n",
        "\n",
        "train_examples = [data.Example.fromlist(i, fields) for i in df.iloc[dfIndexs[2*testRate:]].values.tolist()]\n",
        "train_data = data.Dataset(train_examples, fields)"
      ],
      "metadata": {
        "id": "0dEyuwbOEOk5"
      },
      "id": "0dEyuwbOEOk5",
      "execution_count": 16,
      "outputs": []
    },
    {
      "cell_type": "code",
      "execution_count": 17,
      "id": "9d8cc2c7",
      "metadata": {
        "id": "9d8cc2c7",
        "outputId": "e6726417-6b97-42e5-8592-0571a8b2633b",
        "colab": {
          "base_uri": "https://localhost:8080/"
        }
      },
      "outputs": [
        {
          "output_type": "stream",
          "name": "stdout",
          "text": [
            "Number of training examples: 34904\n",
            "Number of validation examples: 4362\n",
            "Number of testing examples: 4362\n"
          ]
        }
      ],
      "source": [
        "print(f\"Number of training examples: {len(train_data)}\")\n",
        "print(f\"Number of validation examples: {len(valid_data)}\")\n",
        "print(f\"Number of testing examples: {len(test_data)}\")"
      ]
    },
    {
      "cell_type": "code",
      "execution_count": 22,
      "id": "9f2e4869",
      "metadata": {
        "id": "9f2e4869",
        "outputId": "316070cd-f9ce-4e5f-95f6-6ac3dda16489",
        "colab": {
          "base_uri": "https://localhost:8080/"
        }
      },
      "outputs": [
        {
          "output_type": "stream",
          "name": "stdout",
          "text": [
            "{'text': ['بحق', 'می\\u200cتوان', 'ادعا', 'کرد', 'که', 'دفاع', 'یک\\u200cجانبه', 'از', 'آزادی', 'مخالفان', 'جمهوری', 'اسلامی', 'و', 'تسهیل', 'غوغاسالاری', 'اصلاح\\u200cطلبان', 'آمریکایی', 'و', 'در\\u200cحقیقت', 'جماعتی', 'که', 'در', 'مقام', 'براندازی', 'فرهنگی', 'جمهوری', 'اسلامی', 'ایران', 'هستند', '،', 'یک', 'گزینهٔ', 'معوج', 'و', 'نمونهٔ', 'اصلاحات', 'نامعقول', 'است', '.'], 'tag': ['ADV', 'V_AUX', 'N_SING', 'V_PA', 'CON', 'N_SING', 'ADJ', 'P', 'N_SING', 'N_PL', 'N_SING', 'ADJ', 'CON', 'N_SING', 'N_SING', 'N_PL', 'ADJ', 'CON', 'CON', 'N_PL', 'CON', 'P', 'N_SING', 'N_SING', 'ADJ', 'N_SING', 'ADJ', 'N_SING', 'V_PRS', 'DELM', 'NUM', 'N_SING', 'ADJ', 'CON', 'N_SING', 'N_PL', 'ADJ', 'V_PRS', 'DELM']}\n"
          ]
        }
      ],
      "source": [
        "print(vars(train_data.examples[1]))"
      ]
    },
    {
      "cell_type": "code",
      "execution_count": 23,
      "id": "c2ef794a",
      "metadata": {
        "id": "c2ef794a",
        "colab": {
          "base_uri": "https://localhost:8080/"
        },
        "outputId": "7081a6d2-5b7f-43b8-ed63-2c64320d67c1"
      },
      "outputs": [
        {
          "output_type": "stream",
          "name": "stderr",
          "text": [
            "  0%|          | 0/2000000 [00:00<?, ?it/s]WARNING:torchtext.vocab:Skipping token b'2000000' with 1-dimensional vector [b'300']; likely a header\n",
            "100%|██████████| 2000000/2000000 [02:58<00:00, 11208.15it/s]\n"
          ]
        }
      ],
      "source": [
        "from torchtext.vocab import Vectors\n",
        "\n",
        "vectors = Vectors(name='/content/drive/MyDrive/MCI/cc.fa.300.vec')\n",
        "\n",
        "MIN_FREQ = 2\n",
        "\n",
        "TEXT.build_vocab(train_data, \n",
        "                 min_freq = MIN_FREQ,\n",
        "                 vectors = vectors,\n",
        "                 unk_init = torch.Tensor.normal_\n",
        "                 )\n",
        "\n",
        "\n",
        "TAGS.build_vocab(train_data)\n"
      ]
    },
    {
      "cell_type": "code",
      "execution_count": 24,
      "id": "1c872b5a",
      "metadata": {
        "id": "1c872b5a",
        "outputId": "06c8850b-b958-4ebc-c78b-a69e7fef40f2",
        "colab": {
          "base_uri": "https://localhost:8080/"
        }
      },
      "outputs": [
        {
          "output_type": "stream",
          "name": "stdout",
          "text": [
            "Unique tokens in TEXT vocabulary: 24389\n",
            "Unique tokens in TAGS vocabulary: 32\n"
          ]
        }
      ],
      "source": [
        "print(f\"Unique tokens in TEXT vocabulary: {len(TEXT.vocab)}\")\n",
        "print(f\"Unique tokens in TAGS vocabulary: {len(TAGS.vocab)}\")"
      ]
    },
    {
      "cell_type": "code",
      "source": [
        "print(TAGS.vocab.stoi)"
      ],
      "metadata": {
        "colab": {
          "base_uri": "https://localhost:8080/"
        },
        "id": "Wr0aumBR-C58",
        "outputId": "c621ea63-db6c-459e-f87f-8accb04a1f87"
      },
      "id": "Wr0aumBR-C58",
      "execution_count": 62,
      "outputs": [
        {
          "output_type": "stream",
          "name": "stdout",
          "text": [
            "defaultdict(None, {'<pad>': 0, 'N_SING': 1, 'P': 2, 'DELM': 3, 'ADJ': 4, 'CON': 5, 'N_PL': 6, 'V_PRS': 7, 'V_PA': 8, 'NUM': 9, 'PRO': 10, 'DET': 11, 'CLITIC': 12, 'V_PP': 13, 'V_SUB': 14, 'ADV': 15, 'ADV_TIME': 16, 'V_AUX': 17, 'ADJ_SUP': 18, 'ADJ_CMPR': 19, 'FW': 20, 'ADV_I': 21, 'ADV_NEG': 22, 'ADJ_INO': 23, 'ADV_COMP': 24, 'ADV_LOC': 25, 'V_IMP': 26, 'PREV': 27, 'INT': 28, 'N_VOC': 29, '': 30, 'ADJ_VOC': 31})\n"
          ]
        }
      ]
    },
    {
      "cell_type": "code",
      "execution_count": 25,
      "id": "78239f78",
      "metadata": {
        "id": "78239f78",
        "outputId": "52f1eb65-fb84-4508-dc04-46c44cade435",
        "colab": {
          "base_uri": "https://localhost:8080/"
        }
      },
      "outputs": [
        {
          "output_type": "stream",
          "name": "stdout",
          "text": [
            "[('و', 47555), ('،', 36043), ('در', 33914), ('.', 32553), ('به', 27566), ('از', 23926), ('که', 20647), ('این', 17517), ('را', 14989), ('است', 14295), ('با', 11236), (':', 9926), ('-', 7407), ('آن', 5533), ('برای', 5103), ('یک', 4835), ('خود', 4564), ('بر', 4446), ('کرد', 3910), ('ایران', 3700)]\n"
          ]
        }
      ],
      "source": [
        "print(TEXT.vocab.freqs.most_common(20))"
      ]
    },
    {
      "cell_type": "code",
      "execution_count": 26,
      "id": "79155183",
      "metadata": {
        "id": "79155183"
      },
      "outputs": [],
      "source": [
        "def tag_percentage(tag_counts):\n",
        "    \n",
        "    total_count = sum([count for tag, count in tag_counts])\n",
        "    \n",
        "    tag_counts_percentages = [(tag, count, count/total_count) for tag, count in tag_counts]\n",
        "        \n",
        "    return tag_counts_percentages"
      ]
    },
    {
      "cell_type": "code",
      "execution_count": 27,
      "id": "ba008b97",
      "metadata": {
        "id": "ba008b97",
        "outputId": "8de8db33-1bdb-4336-ba4b-ac4b435b932c",
        "colab": {
          "base_uri": "https://localhost:8080/"
        }
      },
      "outputs": [
        {
          "output_type": "stream",
          "name": "stdout",
          "text": [
            "Tag\t\tCount\t\tPercentage\n",
            "\n",
            "N_SING\t\t348297\t\t34.0%\n",
            "P\t\t118772\t\t11.6%\n",
            "DELM\t\t97763\t\t 9.5%\n",
            "ADJ\t\t92006\t\t 9.0%\n",
            "CON\t\t82784\t\t 8.1%\n",
            "N_PL\t\t61091\t\t 6.0%\n",
            "V_PRS\t\t36739\t\t 3.6%\n",
            "V_PA\t\t31453\t\t 3.1%\n",
            "NUM\t\t28294\t\t 2.8%\n",
            "PRO\t\t27393\t\t 2.7%\n",
            "DET\t\t21462\t\t 2.1%\n",
            "CLITIC\t\t14991\t\t 1.5%\n",
            "V_PP\t\t14072\t\t 1.4%\n",
            "V_SUB\t\t12920\t\t 1.3%\n",
            "ADV\t\t10777\t\t 1.1%\n",
            "ADV_TIME\t\t6003\t\t 0.6%\n",
            "V_AUX\t\t4955\t\t 0.5%\n",
            "ADJ_SUP\t\t2987\t\t 0.3%\n",
            "ADJ_CMPR\t\t2450\t\t 0.2%\n",
            "FW\t\t1742\t\t 0.2%\n",
            "ADV_I\t\t1730\t\t 0.2%\n",
            "ADV_NEG\t\t1714\t\t 0.2%\n",
            "ADJ_INO\t\t1666\t\t 0.2%\n",
            "ADV_COMP\t\t1077\t\t 0.1%\n",
            "ADV_LOC\t\t904\t\t 0.1%\n",
            "V_IMP\t\t643\t\t 0.1%\n",
            "PREV\t\t342\t\t 0.0%\n",
            "INT\t\t291\t\t 0.0%\n",
            "N_VOC\t\t27\t\t 0.0%\n",
            "\t\t9\t\t 0.0%\n",
            "ADJ_VOC\t\t1\t\t 0.0%\n"
          ]
        }
      ],
      "source": [
        "print(\"Tag\\t\\tCount\\t\\tPercentage\\n\")\n",
        "\n",
        "for tag, count, percent in tag_percentage(TAGS.vocab.freqs.most_common()):\n",
        "    print(f\"{tag}\\t\\t{count}\\t\\t{percent*100:4.1f}%\")"
      ]
    },
    {
      "cell_type": "code",
      "execution_count": 28,
      "id": "c36feb71",
      "metadata": {
        "id": "c36feb71"
      },
      "outputs": [],
      "source": [
        "BATCH_SIZE = 128\n",
        "\n",
        "device = torch.device('cuda' if torch.cuda.is_available() else 'cpu')\n",
        "\n",
        "train_iterator, valid_iterator, test_iterator = data.BucketIterator.splits(\n",
        "    (train_data, valid_data, test_data), \n",
        "    batch_size = BATCH_SIZE,\n",
        "    device = device,\n",
        "    sort_key=lambda x: len(x.text)\n",
        "    )"
      ]
    },
    {
      "cell_type": "code",
      "execution_count": 29,
      "id": "79ddab98",
      "metadata": {
        "id": "79ddab98"
      },
      "outputs": [],
      "source": [
        "class BiLSTMPOSTagger(nn.Module):\n",
        "    def __init__(self, \n",
        "                 input_dim, \n",
        "                 embedding_dim, \n",
        "                 hidden_dim, \n",
        "                 output_dim, \n",
        "                 n_layers, \n",
        "                 bidirectional, \n",
        "                 dropout, \n",
        "                 pad_idx):\n",
        "        \n",
        "        super().__init__()\n",
        "        \n",
        "        self.embedding = nn.Embedding(input_dim, embedding_dim, padding_idx = pad_idx)\n",
        "        \n",
        "        self.lstm = nn.LSTM(embedding_dim, \n",
        "                            hidden_dim, \n",
        "                            num_layers = n_layers, \n",
        "                            bidirectional = bidirectional,\n",
        "                            dropout = dropout if n_layers > 1 else 0)\n",
        "        \n",
        "        self.fc = nn.Linear(hidden_dim * 2 if bidirectional else hidden_dim, output_dim)\n",
        "        \n",
        "        self.dropout = nn.Dropout(dropout)\n",
        "        \n",
        "    def forward(self, text):\n",
        "\n",
        "        embedded = self.dropout(self.embedding(text))\n",
        "        outputs, (hidden, cell) = self.lstm(embedded)\n",
        "        predictions = self.fc(self.dropout(outputs))\n",
        "        \n",
        "        return predictions\n"
      ]
    },
    {
      "cell_type": "code",
      "execution_count": 30,
      "id": "67c4d380",
      "metadata": {
        "id": "67c4d380"
      },
      "outputs": [],
      "source": [
        "INPUT_DIM = len(TEXT.vocab)\n",
        "EMBEDDING_DIM = 300\n",
        "HIDDEN_DIM = 128\n",
        "OUTPUT_DIM = len(TAGS.vocab)\n",
        "N_LAYERS = 2\n",
        "BIDIRECTIONAL = True\n",
        "DROPOUT = 0.25\n",
        "PAD_IDX = TEXT.vocab.stoi[TEXT.pad_token]\n",
        "\n",
        "model = BiLSTMPOSTagger(INPUT_DIM, \n",
        "                        EMBEDDING_DIM, \n",
        "                        HIDDEN_DIM, \n",
        "                        OUTPUT_DIM, \n",
        "                        N_LAYERS, \n",
        "                        BIDIRECTIONAL, \n",
        "                        DROPOUT, \n",
        "                        PAD_IDX)"
      ]
    },
    {
      "cell_type": "code",
      "execution_count": 31,
      "id": "aa9e7c4c",
      "metadata": {
        "id": "aa9e7c4c",
        "outputId": "40126bac-4240-4e73-997c-da23a75e997c",
        "colab": {
          "base_uri": "https://localhost:8080/"
        }
      },
      "outputs": [
        {
          "output_type": "execute_result",
          "data": {
            "text/plain": [
              "BiLSTMPOSTagger(\n",
              "  (embedding): Embedding(24389, 300, padding_idx=1)\n",
              "  (lstm): LSTM(300, 128, num_layers=2, dropout=0.25, bidirectional=True)\n",
              "  (fc): Linear(in_features=256, out_features=32, bias=True)\n",
              "  (dropout): Dropout(p=0.25, inplace=False)\n",
              ")"
            ]
          },
          "metadata": {},
          "execution_count": 31
        }
      ],
      "source": [
        "def init_weights(m):\n",
        "    for name, param in m.named_parameters():\n",
        "        nn.init.normal_(param.data, mean = 0, std = 0.1)\n",
        "        \n",
        "model.apply(init_weights)"
      ]
    },
    {
      "cell_type": "code",
      "execution_count": 32,
      "id": "7c538a85",
      "metadata": {
        "id": "7c538a85",
        "outputId": "e7c36f25-9ff7-484c-84e7-b24de2fb53ef",
        "colab": {
          "base_uri": "https://localhost:8080/"
        }
      },
      "outputs": [
        {
          "output_type": "stream",
          "name": "stdout",
          "text": [
            "The model has 8,160,508 trainable parameters\n"
          ]
        }
      ],
      "source": [
        "def count_parameters(model):\n",
        "    return sum(p.numel() for p in model.parameters() if p.requires_grad)\n",
        "\n",
        "print(f'The model has {count_parameters(model):,} trainable parameters')"
      ]
    },
    {
      "cell_type": "code",
      "execution_count": 33,
      "id": "a20a7f11",
      "metadata": {
        "id": "a20a7f11",
        "outputId": "9a4c1520-7a20-45e7-e7c3-6089beb968a7",
        "colab": {
          "base_uri": "https://localhost:8080/"
        }
      },
      "outputs": [
        {
          "output_type": "stream",
          "name": "stdout",
          "text": [
            "torch.Size([24389, 300])\n"
          ]
        }
      ],
      "source": [
        "pretrained_embeddings = TEXT.vocab.vectors\n",
        "\n",
        "print(pretrained_embeddings.shape)"
      ]
    },
    {
      "cell_type": "code",
      "execution_count": 34,
      "id": "55658854",
      "metadata": {
        "id": "55658854",
        "outputId": "646c7008-372b-456f-85b8-7c37eecb374a",
        "colab": {
          "base_uri": "https://localhost:8080/"
        }
      },
      "outputs": [
        {
          "output_type": "execute_result",
          "data": {
            "text/plain": [
              "tensor([[ 0.0000,  0.0000,  0.0000,  ...,  0.0000,  0.0000,  0.0000],\n",
              "        [ 0.0000,  0.0000,  0.0000,  ...,  0.0000,  0.0000,  0.0000],\n",
              "        [-0.1988, -0.0852,  0.0563,  ..., -0.0996,  0.0842,  0.0612],\n",
              "        ...,\n",
              "        [-0.1217, -0.0713, -0.0802,  ..., -0.0771, -0.0419, -0.1008],\n",
              "        [-0.0021, -0.0273, -0.0190,  ..., -0.0124,  0.0245, -0.0037],\n",
              "        [ 0.0000,  0.0000,  0.0000,  ...,  0.0000,  0.0000,  0.0000]])"
            ]
          },
          "metadata": {},
          "execution_count": 34
        }
      ],
      "source": [
        "model.embedding.weight.data.copy_(pretrained_embeddings)"
      ]
    },
    {
      "cell_type": "code",
      "execution_count": 35,
      "id": "93d1bc47",
      "metadata": {
        "id": "93d1bc47",
        "outputId": "c3b012ba-5e57-4d56-a0ab-d7380e2a2070",
        "colab": {
          "base_uri": "https://localhost:8080/"
        }
      },
      "outputs": [
        {
          "output_type": "stream",
          "name": "stdout",
          "text": [
            "tensor([[ 0.0000,  0.0000,  0.0000,  ...,  0.0000,  0.0000,  0.0000],\n",
            "        [ 0.0000,  0.0000,  0.0000,  ...,  0.0000,  0.0000,  0.0000],\n",
            "        [-0.1988, -0.0852,  0.0563,  ..., -0.0996,  0.0842,  0.0612],\n",
            "        ...,\n",
            "        [-0.1217, -0.0713, -0.0802,  ..., -0.0771, -0.0419, -0.1008],\n",
            "        [-0.0021, -0.0273, -0.0190,  ..., -0.0124,  0.0245, -0.0037],\n",
            "        [ 0.0000,  0.0000,  0.0000,  ...,  0.0000,  0.0000,  0.0000]])\n"
          ]
        }
      ],
      "source": [
        "model.embedding.weight.data[PAD_IDX] = torch.zeros(EMBEDDING_DIM)\n",
        "\n",
        "print(model.embedding.weight.data)"
      ]
    },
    {
      "cell_type": "code",
      "execution_count": 36,
      "id": "70d85fff",
      "metadata": {
        "id": "70d85fff"
      },
      "outputs": [],
      "source": [
        "optimizer = optim.Adam(model.parameters())"
      ]
    },
    {
      "cell_type": "code",
      "execution_count": 37,
      "id": "dbebe3c7",
      "metadata": {
        "id": "dbebe3c7"
      },
      "outputs": [],
      "source": [
        "TAG_PAD_IDX = TAGS.vocab.stoi[TAGS.pad_token]\n",
        "\n",
        "criterion = nn.CrossEntropyLoss(ignore_index = TAG_PAD_IDX)   "
      ]
    },
    {
      "cell_type": "code",
      "execution_count": 38,
      "id": "7f71f330",
      "metadata": {
        "id": "7f71f330"
      },
      "outputs": [],
      "source": [
        "model = model.to(device)\n",
        "criterion = criterion.to(device)"
      ]
    },
    {
      "cell_type": "code",
      "execution_count": 39,
      "id": "e00efced",
      "metadata": {
        "id": "e00efced"
      },
      "outputs": [],
      "source": [
        "def categorical_accuracy(preds, y, tag_pad_idx):\n",
        "    \"\"\"\n",
        "    Returns accuracy per batch, i.e. if you get 8/10 right, this returns 0.8, NOT 8\n",
        "    \"\"\"\n",
        "    max_preds = preds.argmax(dim = 1, keepdim = True) # get the index of the max probability\n",
        "    non_pad_elements = (y != tag_pad_idx).nonzero()\n",
        "    correct = max_preds[non_pad_elements].squeeze(1).eq(y[non_pad_elements])\n",
        "    return correct.sum() / y[non_pad_elements].shape[0]"
      ]
    },
    {
      "cell_type": "code",
      "execution_count": 41,
      "id": "af2f6cba",
      "metadata": {
        "id": "af2f6cba"
      },
      "outputs": [],
      "source": [
        "def train(model, iterator, optimizer, criterion, tag_pad_idx):\n",
        "    \n",
        "    epoch_loss = 0\n",
        "    epoch_acc = 0\n",
        "    \n",
        "    model.train()\n",
        "    \n",
        "    for batch in iterator:\n",
        "   \n",
        "        text = batch.text\n",
        "        tags = batch.tag\n",
        "        \n",
        "        optimizer.zero_grad()\n",
        "        \n",
        "        \n",
        "        predictions = model(text)\n",
        "        \n",
        "        predictions = predictions.view(-1, predictions.shape[-1])\n",
        "        tags = tags.view(-1)\n",
        "        \n",
        "        \n",
        "        loss = criterion(predictions, tags)\n",
        "                \n",
        "        acc = categorical_accuracy(predictions, tags, tag_pad_idx)\n",
        "        \n",
        "        loss.backward()\n",
        "        \n",
        "        optimizer.step()\n",
        "        \n",
        "        epoch_loss += loss.item()\n",
        "        epoch_acc += acc.item()\n",
        "        \n",
        "    return epoch_loss / len(iterator), epoch_acc / len(iterator)\n"
      ]
    },
    {
      "cell_type": "code",
      "execution_count": 42,
      "id": "3158607a",
      "metadata": {
        "id": "3158607a"
      },
      "outputs": [],
      "source": [
        "def evaluate(model, iterator, criterion, tag_pad_idx):\n",
        "    \n",
        "    epoch_loss = 0\n",
        "    epoch_acc = 0\n",
        "    \n",
        "    model.eval()\n",
        "    \n",
        "    with torch.no_grad():\n",
        "    \n",
        "        for batch in iterator:\n",
        "\n",
        "            text = batch.text\n",
        "            tags = batch.tag\n",
        "            \n",
        "            predictions = model(text)\n",
        "            \n",
        "            predictions = predictions.view(-1, predictions.shape[-1])\n",
        "            tags = tags.view(-1)\n",
        "            \n",
        "            loss = criterion(predictions, tags)\n",
        "            \n",
        "            acc = categorical_accuracy(predictions, tags, tag_pad_idx)\n",
        "\n",
        "            epoch_loss += loss.item()\n",
        "            epoch_acc += acc.item()\n",
        "        \n",
        "    return epoch_loss / len(iterator), epoch_acc / len(iterator)\n"
      ]
    },
    {
      "cell_type": "code",
      "execution_count": 43,
      "id": "be3b484e",
      "metadata": {
        "id": "be3b484e"
      },
      "outputs": [],
      "source": [
        "def epoch_time(start_time, end_time):\n",
        "    elapsed_time = end_time - start_time\n",
        "    elapsed_mins = int(elapsed_time / 60)\n",
        "    elapsed_secs = int(elapsed_time - (elapsed_mins * 60))\n",
        "    return elapsed_mins, elapsed_secs"
      ]
    },
    {
      "cell_type": "code",
      "execution_count": 44,
      "id": "f30f4a4e",
      "metadata": {
        "id": "f30f4a4e",
        "outputId": "902d22d6-3bf9-49b4-d945-f12da69d4c6f",
        "colab": {
          "base_uri": "https://localhost:8080/"
        }
      },
      "outputs": [
        {
          "output_type": "stream",
          "name": "stdout",
          "text": [
            "Epoch: 01 | Epoch Time: 0m 17s\n",
            "\tTrain Loss: 0.584 | Train Acc: 84.15%\n",
            "\t Val. Loss: 0.141 |  Val. Acc: 95.75%\n",
            "Epoch: 02 | Epoch Time: 0m 17s\n",
            "\tTrain Loss: 0.104 | Train Acc: 96.85%\n",
            "\t Val. Loss: 0.115 |  Val. Acc: 96.33%\n",
            "Epoch: 03 | Epoch Time: 0m 17s\n",
            "\tTrain Loss: 0.080 | Train Acc: 97.44%\n",
            "\t Val. Loss: 0.108 |  Val. Acc: 96.58%\n",
            "Epoch: 04 | Epoch Time: 0m 20s\n",
            "\tTrain Loss: 0.067 | Train Acc: 97.82%\n",
            "\t Val. Loss: 0.109 |  Val. Acc: 96.54%\n",
            "Epoch: 05 | Epoch Time: 0m 18s\n",
            "\tTrain Loss: 0.056 | Train Acc: 98.17%\n",
            "\t Val. Loss: 0.111 |  Val. Acc: 96.56%\n",
            "Epoch: 06 | Epoch Time: 0m 18s\n",
            "\tTrain Loss: 0.046 | Train Acc: 98.47%\n",
            "\t Val. Loss: 0.118 |  Val. Acc: 96.50%\n",
            "Epoch: 07 | Epoch Time: 0m 18s\n",
            "\tTrain Loss: 0.038 | Train Acc: 98.74%\n",
            "\t Val. Loss: 0.129 |  Val. Acc: 96.49%\n",
            "Epoch: 08 | Epoch Time: 0m 18s\n",
            "\tTrain Loss: 0.031 | Train Acc: 98.97%\n",
            "\t Val. Loss: 0.133 |  Val. Acc: 96.49%\n",
            "Epoch: 09 | Epoch Time: 0m 18s\n",
            "\tTrain Loss: 0.026 | Train Acc: 99.16%\n",
            "\t Val. Loss: 0.145 |  Val. Acc: 96.45%\n",
            "Epoch: 10 | Epoch Time: 0m 18s\n",
            "\tTrain Loss: 0.021 | Train Acc: 99.30%\n",
            "\t Val. Loss: 0.158 |  Val. Acc: 96.40%\n"
          ]
        }
      ],
      "source": [
        "N_EPOCHS = 10\n",
        "\n",
        "best_valid_loss = float('inf')\n",
        "\n",
        "for epoch in range(N_EPOCHS):\n",
        "\n",
        "    start_time = time.time()\n",
        "    \n",
        "    train_loss, train_acc = train(model, train_iterator, optimizer, criterion, TAG_PAD_IDX)\n",
        "    valid_loss, valid_acc = evaluate(model, valid_iterator, criterion, TAG_PAD_IDX)\n",
        "    \n",
        "    end_time = time.time()\n",
        "\n",
        "    epoch_mins, epoch_secs = epoch_time(start_time, end_time)\n",
        "    \n",
        "    if valid_loss < best_valid_loss:\n",
        "        best_valid_loss = valid_loss\n",
        "        torch.save(model.state_dict(), '/content/drive/MyDrive/MCI/posTag-model.pt')\n",
        "    \n",
        "    print(f'Epoch: {epoch+1:02} | Epoch Time: {epoch_mins}m {epoch_secs}s')\n",
        "    print(f'\\tTrain Loss: {train_loss:.3f} | Train Acc: {train_acc*100:.2f}%')\n",
        "    print(f'\\t Val. Loss: {valid_loss:.3f} |  Val. Acc: {valid_acc*100:.2f}%')"
      ]
    },
    {
      "cell_type": "code",
      "execution_count": 45,
      "id": "4e296591",
      "metadata": {
        "id": "4e296591",
        "colab": {
          "base_uri": "https://localhost:8080/"
        },
        "outputId": "9399a43f-d056-410b-fe74-f2021a2499c9"
      },
      "outputs": [
        {
          "output_type": "stream",
          "name": "stdout",
          "text": [
            "Test Loss: 0.108 |  Test Acc: 96.47%\n"
          ]
        }
      ],
      "source": [
        "model.load_state_dict(torch.load('/content/drive/MyDrive/MCI/posTag-model.pt'))\n",
        "\n",
        "test_loss, test_acc = evaluate(model, test_iterator, criterion, TAG_PAD_IDX)\n",
        "\n",
        "print(f'Test Loss: {test_loss:.3f} |  Test Acc: {test_acc*100:.2f}%')"
      ]
    },
    {
      "cell_type": "code",
      "source": [
        "def tag_sentence(model, device, sentence, text_field, tag_field):\n",
        "    \n",
        "    model.eval()\n",
        "    \n",
        "    if isinstance(sentence, str):\n",
        "        tokens = sentence.strip().split(' ')\n",
        "    else:\n",
        "        tokens = [token for token in sentence]\n",
        "\n",
        "    if text_field.lower:\n",
        "        tokens = [t.lower() for t in tokens]\n",
        "        \n",
        "    numericalized_tokens = [text_field.vocab.stoi[t] for t in tokens]\n",
        "\n",
        "    unk_idx = text_field.vocab.stoi[text_field.unk_token]\n",
        "    \n",
        "    unks = [t for t, n in zip(tokens, numericalized_tokens) if n == unk_idx]\n",
        "    \n",
        "    token_tensor = torch.LongTensor(numericalized_tokens)\n",
        "    \n",
        "    token_tensor = token_tensor.unsqueeze(-1).to(device)\n",
        "         \n",
        "    predictions = model(token_tensor)\n",
        "    \n",
        "    top_predictions = predictions.argmax(-1)\n",
        "    \n",
        "    predicted_tags = [tag_field.vocab.itos[t.item()] for t in top_predictions]\n",
        "    \n",
        "    return tokens, predicted_tags, unks"
      ],
      "metadata": {
        "id": "34oFQXmnMP5R"
      },
      "id": "34oFQXmnMP5R",
      "execution_count": 72,
      "outputs": []
    },
    {
      "cell_type": "code",
      "source": [
        "example_index = 1\n",
        "\n",
        "sentence = vars(train_data.examples[example_index])['text']\n",
        "actual_tags = vars(train_data.examples[example_index])['tag']\n",
        "\n",
        "print(sentence)"
      ],
      "metadata": {
        "colab": {
          "base_uri": "https://localhost:8080/"
        },
        "id": "1DdA5_w4MW9d",
        "outputId": "09d5930e-10a4-42a4-e8b1-9ab9bf4ea763"
      },
      "id": "1DdA5_w4MW9d",
      "execution_count": 73,
      "outputs": [
        {
          "output_type": "stream",
          "name": "stdout",
          "text": [
            "['بحق', 'می\\u200cتوان', 'ادعا', 'کرد', 'که', 'دفاع', 'یک\\u200cجانبه', 'از', 'آزادی', 'مخالفان', 'جمهوری', 'اسلامی', 'و', 'تسهیل', 'غوغاسالاری', 'اصلاح\\u200cطلبان', 'آمریکایی', 'و', 'در\\u200cحقیقت', 'جماعتی', 'که', 'در', 'مقام', 'براندازی', 'فرهنگی', 'جمهوری', 'اسلامی', 'ایران', 'هستند', '،', 'یک', 'گزینهٔ', 'معوج', 'و', 'نمونهٔ', 'اصلاحات', 'نامعقول', 'است', '.']\n"
          ]
        }
      ]
    },
    {
      "cell_type": "code",
      "source": [
        "tokens, pred_tags, unks = tag_sentence(model, \n",
        "                                       device, \n",
        "                                       sentence, \n",
        "                                       TEXT, \n",
        "                                       TAGS)\n",
        "\n",
        "print(unks)"
      ],
      "metadata": {
        "colab": {
          "base_uri": "https://localhost:8080/"
        },
        "id": "-Be8uX-DMlng",
        "outputId": "e85b2981-9661-42d1-83ef-2f065fcf5ef0"
      },
      "id": "-Be8uX-DMlng",
      "execution_count": 74,
      "outputs": [
        {
          "output_type": "stream",
          "name": "stdout",
          "text": [
            "[]\n"
          ]
        }
      ]
    },
    {
      "cell_type": "code",
      "source": [
        "print(\"Pred. Tag\\tActual Tag\\tCorrect?\\tToken\\n\")\n",
        "\n",
        "for token, pred_tag, actual_tag in zip(tokens, pred_tags, actual_tags):\n",
        "    correct = '✔' if pred_tag == actual_tag else '✘'\n",
        "    print(f\"{pred_tag}\\t\\t{actual_tag}\\t\\t{correct}\\t\\t{token}\")"
      ],
      "metadata": {
        "colab": {
          "base_uri": "https://localhost:8080/"
        },
        "id": "g2mn16RjMo4S",
        "outputId": "f9878236-17e7-4110-97d6-d49ff95e14bb"
      },
      "id": "g2mn16RjMo4S",
      "execution_count": 75,
      "outputs": [
        {
          "output_type": "stream",
          "name": "stdout",
          "text": [
            "Pred. Tag\tActual Tag\tCorrect?\tToken\n",
            "\n",
            "ADV\t\tADV\t\t✔\t\tبحق\n",
            "V_AUX\t\tV_AUX\t\t✔\t\tمی‌توان\n",
            "N_SING\t\tN_SING\t\t✔\t\tادعا\n",
            "V_PA\t\tV_PA\t\t✔\t\tکرد\n",
            "CON\t\tCON\t\t✔\t\tکه\n",
            "N_SING\t\tN_SING\t\t✔\t\tدفاع\n",
            "ADJ\t\tADJ\t\t✔\t\tیک‌جانبه\n",
            "P\t\tP\t\t✔\t\tاز\n",
            "N_SING\t\tN_SING\t\t✔\t\tآزادی\n",
            "N_PL\t\tN_PL\t\t✔\t\tمخالفان\n",
            "N_SING\t\tN_SING\t\t✔\t\tجمهوری\n",
            "ADJ\t\tADJ\t\t✔\t\tاسلامی\n",
            "CON\t\tCON\t\t✔\t\tو\n",
            "N_SING\t\tN_SING\t\t✔\t\tتسهیل\n",
            "N_SING\t\tN_SING\t\t✔\t\tغوغاسالاری\n",
            "N_PL\t\tN_PL\t\t✔\t\tاصلاح‌طلبان\n",
            "ADJ\t\tADJ\t\t✔\t\tآمریکایی\n",
            "CON\t\tCON\t\t✔\t\tو\n",
            "CON\t\tCON\t\t✔\t\tدر‌حقیقت\n",
            "N_PL\t\tN_PL\t\t✔\t\tجماعتی\n",
            "CON\t\tCON\t\t✔\t\tکه\n",
            "P\t\tP\t\t✔\t\tدر\n",
            "N_SING\t\tN_SING\t\t✔\t\tمقام\n",
            "N_SING\t\tN_SING\t\t✔\t\tبراندازی\n",
            "ADJ\t\tADJ\t\t✔\t\tفرهنگی\n",
            "N_SING\t\tN_SING\t\t✔\t\tجمهوری\n",
            "ADJ\t\tADJ\t\t✔\t\tاسلامی\n",
            "N_SING\t\tN_SING\t\t✔\t\tایران\n",
            "V_PRS\t\tV_PRS\t\t✔\t\tهستند\n",
            "DELM\t\tDELM\t\t✔\t\t،\n",
            "NUM\t\tNUM\t\t✔\t\tیک\n",
            "N_SING\t\tN_SING\t\t✔\t\tگزینهٔ\n",
            "ADJ\t\tADJ\t\t✔\t\tمعوج\n",
            "CON\t\tCON\t\t✔\t\tو\n",
            "ADJ\t\tN_SING\t\t✘\t\tنمونهٔ\n",
            "N_PL\t\tN_PL\t\t✔\t\tاصلاحات\n",
            "ADJ\t\tADJ\t\t✔\t\tنامعقول\n",
            "V_PRS\t\tV_PRS\t\t✔\t\tاست\n",
            "DELM\t\tDELM\t\t✔\t\t.\n"
          ]
        }
      ]
    },
    {
      "cell_type": "code",
      "source": [
        "sentence = 'سلام و درود بر مردم ایران'\n",
        "\n",
        "tokens, tags, unks = tag_sentence(model, \n",
        "                                  device, \n",
        "                                  sentence, \n",
        "                                  TEXT, \n",
        "                                  TAGS)\n",
        "\n",
        "print(unks)"
      ],
      "metadata": {
        "colab": {
          "base_uri": "https://localhost:8080/"
        },
        "id": "uoFg7viMMyOf",
        "outputId": "e11abff6-3c83-4b83-806c-741126f8951a"
      },
      "id": "uoFg7viMMyOf",
      "execution_count": 76,
      "outputs": [
        {
          "output_type": "stream",
          "name": "stdout",
          "text": [
            "[]\n"
          ]
        }
      ]
    },
    {
      "cell_type": "code",
      "source": [
        "print(\"Pred. Tag\\tToken\\n\")\n",
        "\n",
        "for token, tag in zip(tokens, tags):\n",
        "    print(f\"{tag}\\t\\t{token}\")"
      ],
      "metadata": {
        "colab": {
          "base_uri": "https://localhost:8080/"
        },
        "id": "3Syt_PKQM792",
        "outputId": "72ddf51d-4693-461e-ab32-03503d36bd8a"
      },
      "id": "3Syt_PKQM792",
      "execution_count": 77,
      "outputs": [
        {
          "output_type": "stream",
          "name": "stdout",
          "text": [
            "Pred. Tag\tToken\n",
            "\n",
            "N_SING\t\tسلام\n",
            "CON\t\tو\n",
            "N_SING\t\tدرود\n",
            "P\t\tبر\n",
            "N_SING\t\tمردم\n",
            "N_SING\t\tایران\n"
          ]
        }
      ]
    }
  ],
  "metadata": {
    "kernelspec": {
      "display_name": "POSENV",
      "language": "python",
      "name": "posenv"
    },
    "language_info": {
      "codemirror_mode": {
        "name": "ipython",
        "version": 3
      },
      "file_extension": ".py",
      "mimetype": "text/x-python",
      "name": "python",
      "nbconvert_exporter": "python",
      "pygments_lexer": "ipython3",
      "version": "3.8.10"
    },
    "colab": {
      "provenance": []
    },
    "accelerator": "GPU",
    "gpuClass": "standard"
  },
  "nbformat": 4,
  "nbformat_minor": 5
}