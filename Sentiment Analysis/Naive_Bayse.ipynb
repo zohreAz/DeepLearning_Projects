{
 "cells": [
  {
   "cell_type": "code",
   "execution_count": 1,
   "id": "81bf5f5d",
   "metadata": {
    "colab": {
     "base_uri": "https://localhost:8080/",
     "height": 206
    },
    "id": "81bf5f5d",
    "outputId": "855eae4f-746d-45e2-cc88-9c35dfb120e6"
   },
   "outputs": [
    {
     "data": {
      "text/html": [
       "<div>\n",
       "<style scoped>\n",
       "    .dataframe tbody tr th:only-of-type {\n",
       "        vertical-align: middle;\n",
       "    }\n",
       "\n",
       "    .dataframe tbody tr th {\n",
       "        vertical-align: top;\n",
       "    }\n",
       "\n",
       "    .dataframe thead th {\n",
       "        text-align: right;\n",
       "    }\n",
       "</style>\n",
       "<table border=\"1\" class=\"dataframe\">\n",
       "  <thead>\n",
       "    <tr style=\"text-align: right;\">\n",
       "      <th></th>\n",
       "      <th>line</th>\n",
       "      <th>text</th>\n",
       "      <th>average tag</th>\n",
       "    </tr>\n",
       "  </thead>\n",
       "  <tbody>\n",
       "    <tr>\n",
       "      <th>0</th>\n",
       "      <td>1</td>\n",
       "      <td>با تشکر از شما آقای عباسی</td>\n",
       "      <td>POSITIVE</td>\n",
       "    </tr>\n",
       "    <tr>\n",
       "      <th>1</th>\n",
       "      <td>2</td>\n",
       "      <td>برنامه خندوانه به زندگی ما انرژی داده مرسی</td>\n",
       "      <td>POSITIVE</td>\n",
       "    </tr>\n",
       "    <tr>\n",
       "      <th>2</th>\n",
       "      <td>3</td>\n",
       "      <td>مواظب کلیدت باش تو برفا گم نشه ،شب خونه راهت ن...</td>\n",
       "      <td>NEGATIVE</td>\n",
       "    </tr>\n",
       "    <tr>\n",
       "      <th>3</th>\n",
       "      <td>4</td>\n",
       "      <td>مایه افتخار ما شیرازی هاست که آقا اومدن اونجا ...</td>\n",
       "      <td>POSITIVE</td>\n",
       "    </tr>\n",
       "    <tr>\n",
       "      <th>4</th>\n",
       "      <td>5</td>\n",
       "      <td>@_zahra_str_75 بیخیار سالاد نمیشه</td>\n",
       "      <td>NATURAL</td>\n",
       "    </tr>\n",
       "  </tbody>\n",
       "</table>\n",
       "</div>"
      ],
      "text/plain": [
       "   line                                               text average tag\n",
       "0     1                          با تشکر از شما آقای عباسی    POSITIVE\n",
       "1     2         برنامه خندوانه به زندگی ما انرژی داده مرسی    POSITIVE\n",
       "2     3  مواظب کلیدت باش تو برفا گم نشه ،شب خونه راهت ن...    NEGATIVE\n",
       "3     4  مایه افتخار ما شیرازی هاست که آقا اومدن اونجا ...    POSITIVE\n",
       "4     5                  @_zahra_str_75 بیخیار سالاد نمیشه     NATURAL"
      ]
     },
     "execution_count": 1,
     "metadata": {},
     "output_type": "execute_result"
    }
   ],
   "source": [
    "import pandas\n",
    "import matplotlib.pyplot as plt\n",
    "import os, os.path\n",
    "import numpy as np\n",
    "import math\n",
    "\n",
    "\n",
    "path = os.getcwd() \n",
    "\n",
    "df = pandas.read_csv('data for armankade.csv', sep='\\t')\n",
    "df.head()"
   ]
  },
  {
   "cell_type": "code",
   "execution_count": 2,
   "id": "1a0c1b1d",
   "metadata": {
    "colab": {
     "base_uri": "https://localhost:8080/",
     "height": 457
    },
    "id": "1a0c1b1d",
    "outputId": "f6831c1a-6094-4a7d-cbb9-28ebbd30c11c",
    "scrolled": false
   },
   "outputs": [],
   "source": [
    "import emoji\n",
    "import regex\n",
    "import re\n",
    "from hazm import Normalizer\n",
    "\n",
    "normalizer = Normalizer()\n",
    "punctuation_signs = list(\"?:!.,;\")\n",
    "\n",
    "def clean_text(text,normalizer=normalizer):\n",
    "    text=  emoji.demojize(text)\n",
    "    text= re.sub(r'(:[!_\\-\\w]+:)', '', text)\n",
    "    text= re.sub(r'@\\w+', ' ', text)\n",
    "    text =  text.replace(\"#\", \" \")\n",
    "    text =  text.replace(\"-\", \" \")\n",
    "    text =  text.replace(\"_\", \" \")\n",
    "    \n",
    "    for i in punctuation_signs:\n",
    "         text = text.replace(i,'')\n",
    "    return text\n",
    "\n",
    "def split_text(sentence):\n",
    "    tokens = sentence.strip().split(' ')          \n",
    "    return tokens\n",
    "\n",
    "def demojize(liiist):\n",
    "    \n",
    "    z = []\n",
    "    for item in liiist:\n",
    "        z.append(emoji.demojize(item))\n",
    "    return z\n",
    "\n",
    "df['emoji'] = df['text'].apply(lambda x : emoji.distinct_emoji_list(x))\n",
    "#df['sentence_tokens'] = df['text'].apply(lambda x : x.strip().split(' '))\n",
    "df['text'] = df['text'].apply(lambda x : clean_text(x))\n",
    "df['text_split'] = df['text'].apply(lambda x :split_text(x))\n",
    "#df['text'] = df['text'].replace('\\d+', '')\n",
    "df['emoji'] = df['emoji'].apply(lambda x : demojize(x))\n"
   ]
  },
  {
   "cell_type": "code",
   "execution_count": 3,
   "id": "f0cd671c",
   "metadata": {},
   "outputs": [
    {
     "data": {
      "text/html": [
       "<div>\n",
       "<style scoped>\n",
       "    .dataframe tbody tr th:only-of-type {\n",
       "        vertical-align: middle;\n",
       "    }\n",
       "\n",
       "    .dataframe tbody tr th {\n",
       "        vertical-align: top;\n",
       "    }\n",
       "\n",
       "    .dataframe thead th {\n",
       "        text-align: right;\n",
       "    }\n",
       "</style>\n",
       "<table border=\"1\" class=\"dataframe\">\n",
       "  <thead>\n",
       "    <tr style=\"text-align: right;\">\n",
       "      <th></th>\n",
       "      <th>line</th>\n",
       "      <th>text</th>\n",
       "      <th>average tag</th>\n",
       "      <th>emoji</th>\n",
       "      <th>text_split</th>\n",
       "      <th>context</th>\n",
       "    </tr>\n",
       "  </thead>\n",
       "  <tbody>\n",
       "    <tr>\n",
       "      <th>0</th>\n",
       "      <td>1</td>\n",
       "      <td>با تشکر از شما آقای عباسی</td>\n",
       "      <td>POSITIVE</td>\n",
       "      <td>[]</td>\n",
       "      <td>[با, تشکر, از, شما, آقای, عباسی]</td>\n",
       "      <td>با تشکر از شما آقای عباسی</td>\n",
       "    </tr>\n",
       "    <tr>\n",
       "      <th>1</th>\n",
       "      <td>2</td>\n",
       "      <td>برنامه خندوانه به زندگی ما انرژی داده مرسی</td>\n",
       "      <td>POSITIVE</td>\n",
       "      <td>[]</td>\n",
       "      <td>[برنامه, خندوانه, به, زندگی, ما, انرژی, داده, ...</td>\n",
       "      <td>برنامه خندوانه به زندگی ما انرژی داده مرسی</td>\n",
       "    </tr>\n",
       "    <tr>\n",
       "      <th>2</th>\n",
       "      <td>3</td>\n",
       "      <td>مواظب کلیدت باش تو برفا گم نشه ،شب خونه راهت ن...</td>\n",
       "      <td>NEGATIVE</td>\n",
       "      <td>[]</td>\n",
       "      <td>[مواظب, کلیدت, باش, تو, برفا, گم, نشه, ،شب, خو...</td>\n",
       "      <td>مواظب کلیدت باش تو برفا گم نشه ،شب خونه راهت ن...</td>\n",
       "    </tr>\n",
       "    <tr>\n",
       "      <th>3</th>\n",
       "      <td>4</td>\n",
       "      <td>مایه افتخار ما شیرازی هاست که آقا اومدن اونجا ...</td>\n",
       "      <td>POSITIVE</td>\n",
       "      <td>[:blossom:, :cherry_blossom:, :tulip:]</td>\n",
       "      <td>[مایه, افتخار, ما, شیرازی, هاست, که, آقا, اومد...</td>\n",
       "      <td>مایه افتخار ما شیرازی هاست که آقا اومدن اونجا ...</td>\n",
       "    </tr>\n",
       "    <tr>\n",
       "      <th>4</th>\n",
       "      <td>5</td>\n",
       "      <td>بیخیار سالاد نمیشه</td>\n",
       "      <td>NATURAL</td>\n",
       "      <td>[]</td>\n",
       "      <td>[بیخیار, سالاد, نمیشه]</td>\n",
       "      <td>بیخیار سالاد نمیشه</td>\n",
       "    </tr>\n",
       "  </tbody>\n",
       "</table>\n",
       "</div>"
      ],
      "text/plain": [
       "   line                                               text average tag  \\\n",
       "0     1                          با تشکر از شما آقای عباسی    POSITIVE   \n",
       "1     2         برنامه خندوانه به زندگی ما انرژی داده مرسی    POSITIVE   \n",
       "2     3  مواظب کلیدت باش تو برفا گم نشه ،شب خونه راهت ن...    NEGATIVE   \n",
       "3     4  مایه افتخار ما شیرازی هاست که آقا اومدن اونجا ...    POSITIVE   \n",
       "4     5                                 بیخیار سالاد نمیشه     NATURAL   \n",
       "\n",
       "                                    emoji  \\\n",
       "0                                      []   \n",
       "1                                      []   \n",
       "2                                      []   \n",
       "3  [:blossom:, :cherry_blossom:, :tulip:]   \n",
       "4                                      []   \n",
       "\n",
       "                                          text_split  \\\n",
       "0                   [با, تشکر, از, شما, آقای, عباسی]   \n",
       "1  [برنامه, خندوانه, به, زندگی, ما, انرژی, داده, ...   \n",
       "2  [مواظب, کلیدت, باش, تو, برفا, گم, نشه, ،شب, خو...   \n",
       "3  [مایه, افتخار, ما, شیرازی, هاست, که, آقا, اومد...   \n",
       "4                             [بیخیار, سالاد, نمیشه]   \n",
       "\n",
       "                                             context  \n",
       "0                          با تشکر از شما آقای عباسی  \n",
       "1         برنامه خندوانه به زندگی ما انرژی داده مرسی  \n",
       "2  مواظب کلیدت باش تو برفا گم نشه ،شب خونه راهت ن...  \n",
       "3  مایه افتخار ما شیرازی هاست که آقا اومدن اونجا ...  \n",
       "4                                 بیخیار سالاد نمیشه  "
      ]
     },
     "execution_count": 3,
     "metadata": {},
     "output_type": "execute_result"
    }
   ],
   "source": [
    "df['context'] = df['text_split']+df['emoji']\n",
    "df['context'] = df['context'].apply(lambda x: \" \".join(x))\n",
    "df.head()"
   ]
  },
  {
   "cell_type": "code",
   "execution_count": 4,
   "id": "ec99171a",
   "metadata": {
    "id": "ec99171a",
    "outputId": "bb2a9a54-a235-42fe-c5d7-45a22b1140a5"
   },
   "outputs": [
    {
     "data": {
      "image/png": "[encoded data removed]",
      "text/plain": [
       "<Figure size 640x480 with 1 Axes>"
      ]
     },
     "metadata": {},
     "output_type": "display_data"
    }
   ],
   "source": [
    "import matplotlib.pyplot as plt\n",
    "df[\"average tag\"].value_counts(ascending=True).plot.barh()\n",
    "plt.title(\"Frequency of Classes\")\n",
    "plt.show()"
   ]
  },
  {
   "cell_type": "code",
   "execution_count": 5,
   "id": "eb338d0e",
   "metadata": {},
   "outputs": [],
   "source": [
    "BiMani_split_text_lists = list(df[df['average tag'] == 'BiMani']['text_split'])\n",
    "BiMani_split_emoji_lists = list(df[df['average tag'] == 'BiMani']['emoji'])\n",
    "\n",
    "\n",
    "def flatten(l):\n",
    "    return [item for sublist in l for item in sublist]\n",
    "\n",
    "BiMani_split_text_list = flatten(BiMani_split_text_lists)\n",
    "BiMani_split_emoji_list = flatten(BiMani_split_emoji_lists)"
   ]
  },
  {
   "cell_type": "code",
   "execution_count": 6,
   "id": "e180f56a",
   "metadata": {},
   "outputs": [],
   "source": [
    "import random \n",
    "import pandas as pd\n",
    "\n",
    "len_Natural_class = df[\"average tag\"].value_counts()['NATURAL']\n",
    "len_BiMani_class = df[\"average tag\"].value_counts()['BiMani']\n",
    "mean_sentence_len = int(df[\"text_split\"].str.len().mean())\n",
    "mean_emoji_len = 2\n",
    "\n",
    "len_BiMani_split_text_list = len(BiMani_split_text_list)\n",
    "len_BiMani_split_emoji_list = len(BiMani_split_emoji_list)\n",
    "\n",
    "line_num = len(df)+1\n",
    "\n",
    "lines = []\n",
    "texts = []\n",
    "average_tags = []\n",
    "emojis = []\n",
    "text_splits = []\n",
    "contexts = []\n",
    "\n",
    "for counter in range(len_Natural_class-len_BiMani_class):\n",
    "     token_num = random.randint(1, mean_sentence_len)\n",
    "     emoji_num = random.randint(0,mean_emoji_len)\n",
    "     text_split_list = []\n",
    "     emoji_list = []\n",
    "     \n",
    "     if( random.randint(0,1) == 1):\n",
    "         for i in range(emoji_num):\n",
    "                emoji_indx = random.randint(0,len_BiMani_split_emoji_list-1)\n",
    "                emoji_list.append(BiMani_split_emoji_list[emoji_indx])\n",
    "\n",
    "     for i in range(token_num):\n",
    "            token_indx = random.randint(0,len_BiMani_split_text_list-1)\n",
    "            text_split_list.append(BiMani_split_text_list[token_indx])\n",
    "            \n",
    "     \n",
    "     lines.append(line_num)\n",
    "     texts.append(' '.join(text_split_list))\n",
    "     average_tags.append('BiMani')\n",
    "     emojis.append(emoji_list)\n",
    "     text_splits.append(text_split_list)\n",
    "     contexts.append(' '.join(text_split_list+emoji_list))\n",
    "     line_num += 1\n",
    "        \n",
    "dict_df = {'line':lines ,\n",
    "                'text': texts,\n",
    "                'average tag':average_tags ,\n",
    "                'emoji' :emojis,\n",
    "                'text_split':text_splits ,\n",
    "                'context': contexts\n",
    "                }\n",
    "\n",
    "df2 = pd.DataFrame.from_dict(dict_df, orient='index')\n",
    "df2 = df2.transpose()\n",
    "\n",
    "df = pd.concat([df,df2],ignore_index=True)"
   ]
  },
  {
   "cell_type": "code",
   "execution_count": 11,
   "id": "c12fbcd2",
   "metadata": {},
   "outputs": [
    {
     "data": {
      "text/html": [
       "<div>\n",
       "<style scoped>\n",
       "    .dataframe tbody tr th:only-of-type {\n",
       "        vertical-align: middle;\n",
       "    }\n",
       "\n",
       "    .dataframe tbody tr th {\n",
       "        vertical-align: top;\n",
       "    }\n",
       "\n",
       "    .dataframe thead th {\n",
       "        text-align: right;\n",
       "    }\n",
       "</style>\n",
       "<table border=\"1\" class=\"dataframe\">\n",
       "  <thead>\n",
       "    <tr style=\"text-align: right;\">\n",
       "      <th></th>\n",
       "      <th>line</th>\n",
       "      <th>text</th>\n",
       "      <th>average tag</th>\n",
       "      <th>emoji</th>\n",
       "      <th>text_split</th>\n",
       "      <th>context</th>\n",
       "      <th>Words Per class</th>\n",
       "    </tr>\n",
       "  </thead>\n",
       "  <tbody>\n",
       "    <tr>\n",
       "      <th>18439</th>\n",
       "      <td>18440</td>\n",
       "      <td>ای قران</td>\n",
       "      <td>BiMani</td>\n",
       "      <td>[]</td>\n",
       "      <td>[ای, قران]</td>\n",
       "      <td>ای قران</td>\n",
       "      <td>7</td>\n",
       "    </tr>\n",
       "    <tr>\n",
       "      <th>18440</th>\n",
       "      <td>18441</td>\n",
       "      <td>میاد و تورکلر خخخخخ قا</td>\n",
       "      <td>BiMani</td>\n",
       "      <td>[:purple_heart:]</td>\n",
       "      <td>[میاد, و, تورکلر, خخخخخ, قا]</td>\n",
       "      <td>میاد و تورکلر خخخخخ قا :purple_heart:</td>\n",
       "      <td>37</td>\n",
       "    </tr>\n",
       "    <tr>\n",
       "      <th>18441</th>\n",
       "      <td>18442</td>\n",
       "      <td>باهالیسان از گرگور ما زحمت یاشا</td>\n",
       "      <td>BiMani</td>\n",
       "      <td>[]</td>\n",
       "      <td>[باهالیسان, از, گرگور, ما, زحمت, یاشا]</td>\n",
       "      <td>باهالیسان از گرگور ما زحمت یاشا</td>\n",
       "      <td>31</td>\n",
       "    </tr>\n",
       "    <tr>\n",
       "      <th>18442</th>\n",
       "      <td>18443</td>\n",
       "      <td>قربان از</td>\n",
       "      <td>BiMani</td>\n",
       "      <td>[:rose:]</td>\n",
       "      <td>[قربان, از]</td>\n",
       "      <td>قربان از :rose:</td>\n",
       "      <td>15</td>\n",
       "    </tr>\n",
       "    <tr>\n",
       "      <th>18443</th>\n",
       "      <td>18444</td>\n",
       "      <td>ملتیمیز کله که ueen0 اوران</td>\n",
       "      <td>BiMani</td>\n",
       "      <td>[:tulip:, :face_with_tears_of_joy:]</td>\n",
       "      <td>[ملتیمیز, کله, که, ueen0, اوران]</td>\n",
       "      <td>ملتیمیز کله که ueen0 اوران :tulip: :face_with_...</td>\n",
       "      <td>59</td>\n",
       "    </tr>\n",
       "  </tbody>\n",
       "</table>\n",
       "</div>"
      ],
      "text/plain": [
       "        line                             text average tag  \\\n",
       "18439  18440                          ای قران      BiMani   \n",
       "18440  18441           میاد و تورکلر خخخخخ قا      BiMani   \n",
       "18441  18442  باهالیسان از گرگور ما زحمت یاشا      BiMani   \n",
       "18442  18443                         قربان از      BiMani   \n",
       "18443  18444       ملتیمیز کله که ueen0 اوران      BiMani   \n",
       "\n",
       "                                     emoji  \\\n",
       "18439                                   []   \n",
       "18440                     [:purple_heart:]   \n",
       "18441                                   []   \n",
       "18442                             [:rose:]   \n",
       "18443  [:tulip:, :face_with_tears_of_joy:]   \n",
       "\n",
       "                                   text_split  \\\n",
       "18439                              [ای, قران]   \n",
       "18440            [میاد, و, تورکلر, خخخخخ, قا]   \n",
       "18441  [باهالیسان, از, گرگور, ما, زحمت, یاشا]   \n",
       "18442                             [قربان, از]   \n",
       "18443        [ملتیمیز, کله, که, ueen0, اوران]   \n",
       "\n",
       "                                                 context  Words Per class  \n",
       "18439                                            ای قران                7  \n",
       "18440              میاد و تورکلر خخخخخ قا :purple_heart:               37  \n",
       "18441                    باهالیسان از گرگور ما زحمت یاشا               31  \n",
       "18442                                    قربان از :rose:               15  \n",
       "18443  ملتیمیز کله که ueen0 اوران :tulip: :face_with_...               59  "
      ]
     },
     "execution_count": 11,
     "metadata": {},
     "output_type": "execute_result"
    }
   ],
   "source": [
    "df.tail()"
   ]
  },
  {
   "cell_type": "code",
   "execution_count": 7,
   "id": "24733247",
   "metadata": {},
   "outputs": [
    {
     "data": {
      "image/png": "[encoded data removed]",
      "text/plain": [
       "<Figure size 640x480 with 1 Axes>"
      ]
     },
     "metadata": {},
     "output_type": "display_data"
    }
   ],
   "source": [
    "df[\"average tag\"].value_counts(ascending=True).plot.barh()\n",
    "plt.title(\"Frequency of Classes\")\n",
    "plt.show()"
   ]
  },
  {
   "cell_type": "code",
   "execution_count": 8,
   "id": "1a9b42c1",
   "metadata": {},
   "outputs": [
    {
     "data": {
      "image/png": "[encoded data removed]",
      "text/plain": [
       "<Figure size 640x480 with 1 Axes>"
      ]
     },
     "metadata": {},
     "output_type": "display_data"
    }
   ],
   "source": [
    "df[\"Words Per class\"] = df[\"context\"].apply(len)\n",
    "df.boxplot(\"Words Per class\", by=\"average tag\", grid=False,\n",
    "showfliers=False, color=\"black\")\n",
    "plt.suptitle(\"\")\n",
    "plt.xlabel(\"\")\n",
    "plt.show()"
   ]
  },
  {
   "cell_type": "code",
   "execution_count": 9,
   "id": "56a9b9fc",
   "metadata": {
    "id": "56a9b9fc"
   },
   "outputs": [],
   "source": [
    "from sklearn.preprocessing import LabelEncoder\n",
    "from sklearn.model_selection import train_test_split\n",
    "from sklearn.metrics import classification_report\n",
    "from sklearn.metrics import accuracy_score\n",
    "\n",
    "labels = df['average tag'].values\n",
    "encoder = LabelEncoder()\n",
    "encoded_labels = encoder.fit_transform(labels)"
   ]
  },
  {
   "cell_type": "code",
   "execution_count": 10,
   "id": "4c6f3fa4",
   "metadata": {
    "id": "4c6f3fa4"
   },
   "outputs": [],
   "source": [
    "texts = df['context'].values\n",
    "train_sentences, test_sentences, train_labels, test_labels = train_test_split(texts,\n",
    "                                                                              encoded_labels,\n",
    "                                                                              test_size=0.2,\n",
    "                                                                              stratify = encoded_labels)"
   ]
  },
  {
   "cell_type": "code",
   "execution_count": 12,
   "id": "0d4cfe0b",
   "metadata": {
    "colab": {
     "base_uri": "https://localhost:8080/"
    },
    "id": "0d4cfe0b",
    "outputId": "b111c2b2-6725-45d0-a55b-4c6988ce2574",
    "scrolled": false
   },
   "outputs": [],
   "source": [
    "from sklearn.feature_extraction.text import CountVectorizer\n",
    "from collections import defaultdict\n",
    "\n",
    "one_hot_vectorizer = CountVectorizer()\n",
    "one_hot = one_hot_vectorizer.fit_transform(train_sentences)\n",
    "vocab = one_hot_vectorizer.get_feature_names_out()\n",
    "one_hot = one_hot.toarray()\n",
    "\n",
    "word_counts = {}\n",
    "for label in range(4):\n",
    "   word_counts[label] = defaultdict(lambda: 0)\n",
    "\n",
    "for i in range(one_hot.shape[0]):\n",
    "   label = train_labels[i]\n",
    "\n",
    "   ''' each sentense has a vector as long as vocab '''\n",
    "   for j in range(len(vocab)): \n",
    "       word_counts[label][vocab[j]] += one_hot[i][j]"
   ]
  },
  {
   "cell_type": "code",
   "execution_count": 13,
   "id": "bf4b6411",
   "metadata": {
    "id": "bf4b6411"
   },
   "outputs": [],
   "source": [
    "def laplace_smoothing(n_label_items, vocab, word_counts, word, text_label):\n",
    "    a = word_counts[text_label][word] + 1\n",
    "    b = n_label_items[text_label] + len(vocab)\n",
    "    return math.log(a/b)"
   ]
  },
  {
   "cell_type": "code",
   "execution_count": 14,
   "id": "2d02c780",
   "metadata": {
    "id": "2d02c780"
   },
   "outputs": [],
   "source": [
    "def group_by_label(x, y, labels):\n",
    "    data = {}\n",
    "    for l in labels:\n",
    "        data[l] = x[np.where(y == l)]\n",
    "    return data"
   ]
  },
  {
   "cell_type": "code",
   "execution_count": 15,
   "id": "08de4f12",
   "metadata": {
    "id": "08de4f12"
   },
   "outputs": [],
   "source": [
    "def fit(x, y, labels):\n",
    "    n_label_items = {}\n",
    "    log_label_priors = {}\n",
    "    n = len(x)\n",
    "    grouped_data = group_by_label(x, y, labels)\n",
    "    for l, data in grouped_data.items():\n",
    "        n_label_items[l] = len(data)\n",
    "        log_label_priors[l] = math.log(n_label_items[l] / n)\n",
    "    return n_label_items, log_label_priors"
   ]
  },
  {
   "cell_type": "code",
   "execution_count": 16,
   "id": "a8c619d8",
   "metadata": {
    "id": "a8c619d8"
   },
   "outputs": [],
   "source": [
    "def predict(n_label_items, vocab, word_counts, log_label_priors, labels, x):\n",
    "    result = []\n",
    "    for text in x:\n",
    "        label_scores = {l: log_label_priors[l] for l in labels}\n",
    "        words = set(text.split(' '))\n",
    "        for word in words:\n",
    "            if word not in vocab: continue\n",
    "            for l in labels:\n",
    "                log_w_given_l = laplace_smoothing(n_label_items, vocab, word_counts, word, l)\n",
    "                label_scores[l] += log_w_given_l\n",
    "        result.append(max(label_scores, key=label_scores.get))\n",
    "    return result"
   ]
  },
  {
   "cell_type": "code",
   "execution_count": 17,
   "id": "6baa3c88",
   "metadata": {
    "colab": {
     "base_uri": "https://localhost:8080/"
    },
    "id": "6baa3c88",
    "outputId": "eb6ababc-af34-422d-b59b-2a017f4f2682"
   },
   "outputs": [
    {
     "name": "stdout",
     "output_type": "stream",
     "text": [
      "Accuracy of prediction on test set :  0.725670913526701\n"
     ]
    }
   ],
   "source": [
    "labels = list(set(encoded_labels))\n",
    "n_label_items, log_label_priors = fit(train_sentences,train_labels,labels)\n",
    "pred = predict(n_label_items, vocab, word_counts, log_label_priors, labels, test_sentences)\n",
    "print(\"Accuracy of prediction on test set : \", accuracy_score(test_labels,pred))"
   ]
  },
  {
   "cell_type": "markdown",
   "id": "4a756f0d",
   "metadata": {},
   "source": [
    "###### Dummy classifier"
   ]
  },
  {
   "cell_type": "code",
   "execution_count": 18,
   "id": "c666c4f3",
   "metadata": {},
   "outputs": [
    {
     "data": {
      "text/plain": [
       "0.40037950664136623"
      ]
     },
     "execution_count": 18,
     "metadata": {},
     "output_type": "execute_result"
    }
   ],
   "source": [
    "from sklearn.dummy import DummyClassifier\n",
    "dummy_clf = DummyClassifier(strategy=\"most_frequent\")\n",
    "dummy_clf.fit(train_sentences,train_labels)\n",
    "DummyClassifier(strategy='most_frequent')\n",
    "dummy_clf.predict(test_sentences)\n",
    "dummy_clf.score(test_sentences, test_labels)"
   ]
  }
 ],
 "metadata": {
  "colab": {
   "provenance": []
  },
  "kernelspec": {
   "display_name": "NB",
   "language": "python",
   "name": "nb"
  },
  "language_info": {
   "codemirror_mode": {
    "name": "ipython",
    "version": 3
   },
   "file_extension": ".py",
   "mimetype": "text/x-python",
   "name": "python",
   "nbconvert_exporter": "python",
   "pygments_lexer": "ipython3",
   "version": "3.8.10"
  }
 },
 "nbformat": 4,
 "nbformat_minor": 5
}
