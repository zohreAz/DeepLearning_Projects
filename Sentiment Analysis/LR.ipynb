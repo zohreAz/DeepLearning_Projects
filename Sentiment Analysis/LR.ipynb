{
 "cells": [
  {
   "cell_type": "code",
   "execution_count": 1,
   "id": "012666c2",
   "metadata": {},
   "outputs": [
    {
     "data": {
      "text/html": [
       "<div>\n",
       "<style scoped>\n",
       "    .dataframe tbody tr th:only-of-type {\n",
       "        vertical-align: middle;\n",
       "    }\n",
       "\n",
       "    .dataframe tbody tr th {\n",
       "        vertical-align: top;\n",
       "    }\n",
       "\n",
       "    .dataframe thead th {\n",
       "        text-align: right;\n",
       "    }\n",
       "</style>\n",
       "<table border=\"1\" class=\"dataframe\">\n",
       "  <thead>\n",
       "    <tr style=\"text-align: right;\">\n",
       "      <th></th>\n",
       "      <th>line</th>\n",
       "      <th>text</th>\n",
       "      <th>average tag</th>\n",
       "    </tr>\n",
       "  </thead>\n",
       "  <tbody>\n",
       "    <tr>\n",
       "      <th>0</th>\n",
       "      <td>1</td>\n",
       "      <td>با تشکر از شما آقای عباسی</td>\n",
       "      <td>POSITIVE</td>\n",
       "    </tr>\n",
       "    <tr>\n",
       "      <th>1</th>\n",
       "      <td>2</td>\n",
       "      <td>برنامه خندوانه به زندگی ما انرژی داده مرسی</td>\n",
       "      <td>POSITIVE</td>\n",
       "    </tr>\n",
       "    <tr>\n",
       "      <th>2</th>\n",
       "      <td>3</td>\n",
       "      <td>مواظب کلیدت باش تو برفا گم نشه ،شب خونه راهت ن...</td>\n",
       "      <td>NEGATIVE</td>\n",
       "    </tr>\n",
       "    <tr>\n",
       "      <th>3</th>\n",
       "      <td>4</td>\n",
       "      <td>مایه افتخار ما شیرازی هاست که آقا اومدن اونجا ...</td>\n",
       "      <td>POSITIVE</td>\n",
       "    </tr>\n",
       "    <tr>\n",
       "      <th>4</th>\n",
       "      <td>5</td>\n",
       "      <td>@_zahra_str_75 بیخیار سالاد نمیشه</td>\n",
       "      <td>NATURAL</td>\n",
       "    </tr>\n",
       "  </tbody>\n",
       "</table>\n",
       "</div>"
      ],
      "text/plain": [
       "   line                                               text average tag\n",
       "0     1                          با تشکر از شما آقای عباسی    POSITIVE\n",
       "1     2         برنامه خندوانه به زندگی ما انرژی داده مرسی    POSITIVE\n",
       "2     3  مواظب کلیدت باش تو برفا گم نشه ،شب خونه راهت ن...    NEGATIVE\n",
       "3     4  مایه افتخار ما شیرازی هاست که آقا اومدن اونجا ...    POSITIVE\n",
       "4     5                  @_zahra_str_75 بیخیار سالاد نمیشه     NATURAL"
      ]
     },
     "execution_count": 1,
     "metadata": {},
     "output_type": "execute_result"
    }
   ],
   "source": [
    "import pandas as pd\n",
    "import matplotlib.pyplot as plt\n",
    "import os, os.path\n",
    "import numpy as np\n",
    "\n",
    "path = os.getcwd() \n",
    "\n",
    "df = pd.read_csv(path + '/data for armankade.csv', sep='\\t')\n",
    "df.head()"
   ]
  },
  {
   "cell_type": "code",
   "execution_count": 2,
   "id": "1b358c45",
   "metadata": {},
   "outputs": [],
   "source": [
    "import emoji\n",
    "import regex\n",
    "import re\n",
    "from hazm import Normalizer\n",
    "from hazm import stopwords_list\n",
    "\n",
    "normalizer = Normalizer()\n",
    "punctuation_signs = list(\"?:!.,;\")\n",
    "\n",
    "def clean_text(text,normalizer=normalizer):\n",
    "    text=  emoji.demojize(text)\n",
    "    text= re.sub(r'(:[!_\\-\\w]+:)', '', text)\n",
    "    text= re.sub(r'@\\w+', ' ', text)\n",
    "    text =  text.replace(\"#\", \" \")\n",
    "    text =  text.replace(\"-\", \" \")\n",
    "    text =  text.replace(\"_\", \" \")\n",
    "    \n",
    "    for i in punctuation_signs:\n",
    "         text = text.replace(i,'')\n",
    "    return text\n",
    "\n",
    "def split_text(sentence):\n",
    "    tokens = sentence.strip().split(' ')\n",
    "    filtered_tokens = []\n",
    "    for i in tokens:\n",
    "        if(i not in stopwords_list()):\n",
    "            filtered_tokens.append(i)\n",
    "    return filtered_tokens\n",
    "\n",
    "def demojize(liiist):\n",
    "    \n",
    "    z = []\n",
    "    for item in liiist:\n",
    "        z.append(emoji.demojize(item))\n",
    "    return z\n",
    "\n",
    "df['emoji'] = df['text'].apply(lambda x : emoji.distinct_emoji_list(x))\n",
    "#df['sentence_tokens'] = df['text'].apply(lambda x : x.strip().split(' '))\n",
    "df['text'] = df['text'].apply(lambda x : clean_text(x))\n",
    "df['text_split'] = df['text'].apply(lambda x :split_text(x))\n",
    "#df['text'] = df['text'].replace('\\d+', '')\n",
    "df['emoji'] = df['emoji'].apply(lambda x : demojize(x))\n"
   ]
  },
  {
   "cell_type": "code",
   "execution_count": 3,
   "id": "03671cb9",
   "metadata": {},
   "outputs": [
    {
     "data": {
      "text/html": [
       "<div>\n",
       "<style scoped>\n",
       "    .dataframe tbody tr th:only-of-type {\n",
       "        vertical-align: middle;\n",
       "    }\n",
       "\n",
       "    .dataframe tbody tr th {\n",
       "        vertical-align: top;\n",
       "    }\n",
       "\n",
       "    .dataframe thead th {\n",
       "        text-align: right;\n",
       "    }\n",
       "</style>\n",
       "<table border=\"1\" class=\"dataframe\">\n",
       "  <thead>\n",
       "    <tr style=\"text-align: right;\">\n",
       "      <th></th>\n",
       "      <th>line</th>\n",
       "      <th>text</th>\n",
       "      <th>average tag</th>\n",
       "      <th>emoji</th>\n",
       "      <th>text_split</th>\n",
       "      <th>context</th>\n",
       "    </tr>\n",
       "  </thead>\n",
       "  <tbody>\n",
       "    <tr>\n",
       "      <th>0</th>\n",
       "      <td>1</td>\n",
       "      <td>با تشکر از شما آقای عباسی</td>\n",
       "      <td>POSITIVE</td>\n",
       "      <td>[]</td>\n",
       "      <td>[تشکر, عباسی]</td>\n",
       "      <td>تشکر عباسی</td>\n",
       "    </tr>\n",
       "    <tr>\n",
       "      <th>1</th>\n",
       "      <td>2</td>\n",
       "      <td>برنامه خندوانه به زندگی ما انرژی داده مرسی</td>\n",
       "      <td>POSITIVE</td>\n",
       "      <td>[]</td>\n",
       "      <td>[برنامه, خندوانه, زندگی, انرژی, مرسی]</td>\n",
       "      <td>برنامه خندوانه زندگی انرژی مرسی</td>\n",
       "    </tr>\n",
       "    <tr>\n",
       "      <th>2</th>\n",
       "      <td>3</td>\n",
       "      <td>مواظب کلیدت باش تو برفا گم نشه ،شب خونه راهت ن...</td>\n",
       "      <td>NEGATIVE</td>\n",
       "      <td>[]</td>\n",
       "      <td>[مواظب, کلیدت, باش, برفا, گم, نشه, ،شب, خونه, ...</td>\n",
       "      <td>مواظب کلیدت باش برفا گم نشه ،شب خونه راهت نمیدن</td>\n",
       "    </tr>\n",
       "    <tr>\n",
       "      <th>3</th>\n",
       "      <td>4</td>\n",
       "      <td>مایه افتخار ما شیرازی هاست که آقا اومدن اونجا ...</td>\n",
       "      <td>POSITIVE</td>\n",
       "      <td>[:tulip:, :cherry_blossom:, :blossom:]</td>\n",
       "      <td>[مایه, افتخار, شیرازی, هاست, آقا, اومدن, اونجا...</td>\n",
       "      <td>مایه افتخار شیرازی هاست آقا اومدن اونجا  قربون...</td>\n",
       "    </tr>\n",
       "    <tr>\n",
       "      <th>4</th>\n",
       "      <td>5</td>\n",
       "      <td>بیخیار سالاد نمیشه</td>\n",
       "      <td>NATURAL</td>\n",
       "      <td>[]</td>\n",
       "      <td>[بیخیار, سالاد, نمیشه]</td>\n",
       "      <td>بیخیار سالاد نمیشه</td>\n",
       "    </tr>\n",
       "  </tbody>\n",
       "</table>\n",
       "</div>"
      ],
      "text/plain": [
       "   line                                               text average tag  \\\n",
       "0     1                          با تشکر از شما آقای عباسی    POSITIVE   \n",
       "1     2         برنامه خندوانه به زندگی ما انرژی داده مرسی    POSITIVE   \n",
       "2     3  مواظب کلیدت باش تو برفا گم نشه ،شب خونه راهت ن...    NEGATIVE   \n",
       "3     4  مایه افتخار ما شیرازی هاست که آقا اومدن اونجا ...    POSITIVE   \n",
       "4     5                                 بیخیار سالاد نمیشه     NATURAL   \n",
       "\n",
       "                                    emoji  \\\n",
       "0                                      []   \n",
       "1                                      []   \n",
       "2                                      []   \n",
       "3  [:tulip:, :cherry_blossom:, :blossom:]   \n",
       "4                                      []   \n",
       "\n",
       "                                          text_split  \\\n",
       "0                                      [تشکر, عباسی]   \n",
       "1              [برنامه, خندوانه, زندگی, انرژی, مرسی]   \n",
       "2  [مواظب, کلیدت, باش, برفا, گم, نشه, ،شب, خونه, ...   \n",
       "3  [مایه, افتخار, شیرازی, هاست, آقا, اومدن, اونجا...   \n",
       "4                             [بیخیار, سالاد, نمیشه]   \n",
       "\n",
       "                                             context  \n",
       "0                                         تشکر عباسی  \n",
       "1                    برنامه خندوانه زندگی انرژی مرسی  \n",
       "2    مواظب کلیدت باش برفا گم نشه ،شب خونه راهت نمیدن  \n",
       "3  مایه افتخار شیرازی هاست آقا اومدن اونجا  قربون...  \n",
       "4                                 بیخیار سالاد نمیشه  "
      ]
     },
     "execution_count": 3,
     "metadata": {},
     "output_type": "execute_result"
    }
   ],
   "source": [
    "df['context'] = df['text_split']+df['emoji']\n",
    "df['context'] = df['context'].apply(lambda x: \" \".join(x))\n",
    "df.head()"
   ]
  },
  {
   "cell_type": "code",
   "execution_count": 4,
   "id": "78a79b0c",
   "metadata": {},
   "outputs": [
    {
     "data": {
      "image/png": "[encoded data removed]",
      "text/plain": [
       "<Figure size 640x480 with 1 Axes>"
      ]
     },
     "metadata": {},
     "output_type": "display_data"
    }
   ],
   "source": [
    "import matplotlib.pyplot as plt\n",
    "df[\"average tag\"].value_counts(ascending=True).plot.barh()\n",
    "plt.title(\"Frequency of Classes\")\n",
    "plt.show()"
   ]
  },
  {
   "cell_type": "code",
   "execution_count": 5,
   "id": "62d46b13",
   "metadata": {},
   "outputs": [],
   "source": [
    "BiMani_split_text_lists = list(df[df['average tag'] == 'BiMani']['text_split'])\n",
    "BiMani_split_emoji_lists = list(df[df['average tag'] == 'BiMani']['emoji'])\n",
    "\n",
    "\n",
    "def flatten(l):\n",
    "    return [item for sublist in l for item in sublist]\n",
    "\n",
    "BiMani_split_text_list = flatten(BiMani_split_text_lists)\n",
    "BiMani_split_emoji_list = flatten(BiMani_split_emoji_lists)"
   ]
  },
  {
   "cell_type": "code",
   "execution_count": 6,
   "id": "5094a852",
   "metadata": {},
   "outputs": [],
   "source": [
    "import random \n",
    "import pandas as pd\n",
    "\n",
    "len_Natural_class = df[\"average tag\"].value_counts()['NATURAL']\n",
    "len_BiMani_class = df[\"average tag\"].value_counts()['BiMani']\n",
    "mean_sentence_len = int(df[\"text_split\"].str.len().mean())\n",
    "mean_emoji_len = 2\n",
    "\n",
    "len_BiMani_split_text_list = len(BiMani_split_text_list)\n",
    "len_BiMani_split_emoji_list = len(BiMani_split_emoji_list)\n",
    "\n",
    "line_num = len(df)+1\n",
    "\n",
    "lines = []\n",
    "texts = []\n",
    "average_tags = []\n",
    "emojis = []\n",
    "text_splits = []\n",
    "contexts = []\n",
    "\n",
    "for counter in range(len_Natural_class-len_BiMani_class):\n",
    "     token_num = random.randint(1, mean_sentence_len)\n",
    "     emoji_num = random.randint(0,mean_emoji_len)\n",
    "     text_split_list = []\n",
    "     emoji_list = []\n",
    "     \n",
    "     if( random.randint(0,1) == 1):\n",
    "         for i in range(emoji_num):\n",
    "                emoji_indx = random.randint(0,len_BiMani_split_emoji_list-1)\n",
    "                emoji_list.append(BiMani_split_emoji_list[emoji_indx])\n",
    "\n",
    "     for i in range(token_num):\n",
    "            token_indx = random.randint(0,len_BiMani_split_text_list-1)\n",
    "            text_split_list.append(BiMani_split_text_list[token_indx])\n",
    "            \n",
    "     \n",
    "     lines.append(line_num)\n",
    "     texts.append(' '.join(text_split_list))\n",
    "     average_tags.append('BiMani')\n",
    "     emojis.append(emoji_list)\n",
    "     text_splits.append(text_split_list)\n",
    "     contexts.append(' '.join(text_split_list+emoji_list))\n",
    "     line_num += 1\n",
    "        \n",
    "dict_df = {'line':lines ,\n",
    "                'text': texts,\n",
    "                'average tag':average_tags ,\n",
    "                'emoji' :emojis,\n",
    "                'text_split':text_splits ,\n",
    "                'context': contexts\n",
    "                }\n",
    "\n",
    "df2 = pd.DataFrame.from_dict(dict_df, orient='index')\n",
    "df2 = df2.transpose()\n",
    "\n",
    "df = pd.concat([df,df2],ignore_index=True)"
   ]
  },
  {
   "cell_type": "code",
   "execution_count": 7,
   "id": "8b417f0c",
   "metadata": {
    "scrolled": false
   },
   "outputs": [
    {
     "data": {
      "image/png": "[encoded data removed]",
      "text/plain": [
       "<Figure size 640x480 with 1 Axes>"
      ]
     },
     "metadata": {},
     "output_type": "display_data"
    }
   ],
   "source": [
    "df[\"average tag\"].value_counts(ascending=True).plot.barh()\n",
    "plt.title(\"Frequency of Classes\")\n",
    "plt.show()"
   ]
  },
  {
   "cell_type": "code",
   "execution_count": 19,
   "id": "4d3c72e1",
   "metadata": {},
   "outputs": [],
   "source": [
    "from sklearn.preprocessing import LabelBinarizer\n",
    "from sklearn.model_selection import train_test_split\n",
    "\n",
    "label_dict = {'POSITIVE':0, 'NEGATIVE':1, 'NATURAL':2, 'BiMani':3}\n",
    "df['target'] = df['average tag'].apply(lambda x: label_dict[x])\n",
    "\n",
    "y = df['target'].values\n",
    "encoder = LabelBinarizer()\n",
    "y_oh = encoder.fit_transform(y)\n",
    "X = df['context']\n",
    "X_train, X_test, y_train, y_test = train_test_split(X, y_oh, test_size=0.2, random_state=0, stratify=y)"
   ]
  },
  {
   "cell_type": "code",
   "execution_count": 20,
   "id": "6da12044",
   "metadata": {},
   "outputs": [],
   "source": [
    "from sklearn.feature_extraction.text import TfidfVectorizer\n",
    "\n",
    "tfidf = TfidfVectorizer(strip_accents=None,\n",
    "                        lowercase=False,\n",
    "                        preprocessor=None)\n",
    "\n",
    "X_train = tfidf.fit_transform(X_train).toarray()"
   ]
  },
  {
   "cell_type": "code",
   "execution_count": 20,
   "id": "5afac1ca",
   "metadata": {},
   "outputs": [],
   "source": [
    "learning_rate = 0.1\n",
    "n_iter = 500\n",
    "ws,bs = [],[]\n",
    "\n",
    "predict = lambda x, w, b: np.matmul(w,x.T) + b\n",
    "sigmoid = lambda yhat: 1/(1+np.exp(-yhat))\n",
    "loss = lambda y, sig: -(y*np.log(sig)+(1-y)*np.log(1-sig)).mean()\n",
    "dldw = lambda x, y, sig: (np.reshape(sig-y,(x.shape[0],1))*x).mean(axis = 0)\n",
    "dldb = lambda y, sig: (sig-y).mean(axis = 0)\n",
    "update = lambda w, grad, lr: w-(grad*lr)"
   ]
  },
  {
   "cell_type": "code",
   "execution_count": 21,
   "id": "8b3e088f",
   "metadata": {},
   "outputs": [],
   "source": [
    "for c in range(4):\n",
    "    b = 0\n",
    "    w = np.zeros(X_train.shape[1])\n",
    "    for i in range(n_iter):\n",
    "        yhat = predict(X_train,w,b)\n",
    "        sig = sigmoid(yhat)\n",
    "        grad_w = dldw(X_train,y_train[:,c],sig)\n",
    "        grad_b = dldb(y_train[:,c],sig)\n",
    "        w = update(w,grad_w,learning_rate)\n",
    "        b = update(b,grad_b,learning_rate)\n",
    "    ws.append(w)\n",
    "    bs.append(b)"
   ]
  },
  {
   "cell_type": "code",
   "execution_count": 22,
   "id": "9fb25fb8",
   "metadata": {},
   "outputs": [],
   "source": [
    "sigs = []\n",
    "for c in range(4):\n",
    "    yhat = predict(X_test,ws[c],bs[c])\n",
    "    sig = sigmoid(yhat)\n",
    "    sigs.append(sig)\n",
    "y_pred = np.argmax(sigs,axis = 0)"
   ]
  },
  {
   "cell_type": "code",
   "execution_count": 28,
   "id": "f3092bfb",
   "metadata": {},
   "outputs": [
    {
     "name": "stdout",
     "output_type": "stream",
     "text": [
      "Acuuracy is : 40.03795066413662 %\n"
     ]
    }
   ],
   "source": [
    "print(f'Acuuracy is : {(sum(y_pred == np.argmax(y_test, axis=1))/len(y_test))*100} %')"
   ]
  },
  {
   "cell_type": "code",
   "execution_count": 31,
   "id": "49d68d5a",
   "metadata": {},
   "outputs": [],
   "source": [
    "from sklearn.preprocessing import LabelEncoder\n",
    "from sklearn.model_selection import train_test_split\n",
    "\n",
    "label_dict = {'POSITIVE':0, 'NEGATIVE':1, 'NATURAL':2, 'BiMani':3}\n",
    "df['target'] = df['average tag'].apply(lambda x: label_dict[x])\n",
    "\n",
    "y = df['target'].values\n",
    "encoder = LabelEncoder()\n",
    "y_oh = encoder.fit_transform(y)\n",
    "X = df['context']\n",
    "X_train, X_test, y_train, y_test = train_test_split(X, y_oh, test_size=0.2, random_state=0, stratify=y)"
   ]
  },
  {
   "cell_type": "code",
   "execution_count": 33,
   "id": "ac8a9162",
   "metadata": {},
   "outputs": [],
   "source": [
    "from sklearn.feature_extraction.text import TfidfVectorizer\n",
    "\n",
    "tfidf = TfidfVectorizer(strip_accents=None,\n",
    "                        lowercase=False,\n",
    "                        preprocessor=None)\n",
    "\n",
    "X_train = tfidf.fit_transform(X_train).toarray()"
   ]
  },
  {
   "cell_type": "code",
   "execution_count": 34,
   "id": "47b27c31",
   "metadata": {
    "collapsed": true
   },
   "outputs": [
    {
     "name": "stderr",
     "output_type": "stream",
     "text": [
      "/home/zohre/Projects/MCI/Logestic Regression/LR/lib/python3.8/site-packages/sklearn/linear_model/_logistic.py:458: ConvergenceWarning: lbfgs failed to converge (status=1):\n",
      "STOP: TOTAL NO. of ITERATIONS REACHED LIMIT.\n",
      "\n",
      "Increase the number of iterations (max_iter) or scale the data as shown in:\n",
      "    https://scikit-learn.org/stable/modules/preprocessing.html\n",
      "Please also refer to the documentation for alternative solver options:\n",
      "    https://scikit-learn.org/stable/modules/linear_model.html#logistic-regression\n",
      "  n_iter_i = _check_optimize_result(\n"
     ]
    }
   ],
   "source": [
    "from sklearn.linear_model import LogisticRegression\n",
    "clf = LogisticRegression(random_state=0).fit(X_train, y_train)\n"
   ]
  },
  {
   "cell_type": "code",
   "execution_count": 36,
   "id": "a52ca2ee",
   "metadata": {},
   "outputs": [],
   "source": [
    "X_test = tfidf.transform(X_test).toarray()\n",
    "predict = clf.predict(X_test)"
   ]
  },
  {
   "cell_type": "code",
   "execution_count": 37,
   "id": "f94d1002",
   "metadata": {},
   "outputs": [
    {
     "name": "stdout",
     "output_type": "stream",
     "text": [
      "Accuracy is 72.35023041474655 %\n"
     ]
    }
   ],
   "source": [
    "print(f'Accuracy is {(np.sum(predict == y_test)/len(y_test)) * 100} %')\n"
   ]
  },
  {
   "cell_type": "code",
   "execution_count": 38,
   "id": "02212e99",
   "metadata": {},
   "outputs": [],
   "source": [
    "pickle.dump(tfidf,open(\"tfidf.pkl\",\"wb\"))\n",
    "pickle.dump(clf,open(\"LR_model.joblib\",\"wb\"))\n"
   ]
  }
 ],
 "metadata": {
  "kernelspec": {
   "display_name": "LR",
   "language": "python",
   "name": "lr"
  },
  "language_info": {
   "codemirror_mode": {
    "name": "ipython",
    "version": 3
   },
   "file_extension": ".py",
   "mimetype": "text/x-python",
   "name": "python",
   "nbconvert_exporter": "python",
   "pygments_lexer": "ipython3",
   "version": "3.8.10"
  }
 },
 "nbformat": 4,
 "nbformat_minor": 5
}
